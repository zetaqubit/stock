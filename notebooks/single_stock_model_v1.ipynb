{
  "nbformat": 4,
  "nbformat_minor": 0,
  "metadata": {
    "kernelspec": {
      "display_name": "Python 3",
      "language": "python",
      "name": "python3"
    },
    "language_info": {
      "codemirror_mode": {
        "name": "ipython",
        "version": 3
      },
      "file_extension": ".py",
      "mimetype": "text/x-python",
      "name": "python",
      "nbconvert_exporter": "python",
      "pygments_lexer": "ipython3",
      "version": "3.6.3"
    },
    "colab": {
      "name": "single_stock_model_v1.ipynb",
      "provenance": []
    }
  },
  "cells": [
    {
      "cell_type": "markdown",
      "metadata": {
        "id": "JxYUXM_OnIiA",
        "colab_type": "text"
      },
      "source": [
        "# Description\n",
        "\n",
        "A simple model to predict a stock's price given its recent price history.\n",
        "\n",
        "\n",
        "# Versions\n",
        "## v1\n",
        "- Context window: 8 days price history\n",
        "- Linear model predicts next day price\n",
        "- L2 loss\n",
        "- Naive strategy of holding stock iff predicted price for day went up\n",
        "- Table comparing return vs baselines: always hold, and mean price predictor"
      ]
    },
    {
      "cell_type": "code",
      "metadata": {
        "id": "gjPhwU4sTXAk",
        "colab_type": "code",
        "colab": {}
      },
      "source": [
        "from matplotlib import pyplot as plt\n",
        "\n",
        "%matplotlib inline\n",
        "\n",
        "import pandas as pd\n",
        "import torch as th\n",
        "import numpy as np\n",
        "\n",
        "plt.rcParams.update({\n",
        "    \"lines.color\": \"white\",\n",
        "    \"patch.edgecolor\": \"white\",\n",
        "    \"text.color\": \"black\",\n",
        "    \"axes.facecolor\": \"white\",\n",
        "    \"axes.edgecolor\": \"lightgray\",\n",
        "    \"axes.labelcolor\": \"white\",\n",
        "    \"xtick.color\": \"white\",\n",
        "    \"ytick.color\": \"white\",\n",
        "    \"grid.color\": \"lightgray\",\n",
        "    \"figure.facecolor\": \"black\",\n",
        "    \"figure.edgecolor\": \"black\",\n",
        "    \"savefig.facecolor\": \"black\",\n",
        "    \"savefig.edgecolor\": \"black\"})"
      ],
      "execution_count": 1,
      "outputs": []
    },
    {
      "cell_type": "markdown",
      "metadata": {
        "id": "QI-drLqv3_Dy",
        "colab_type": "text"
      },
      "source": [
        "# Dataset"
      ]
    },
    {
      "cell_type": "code",
      "metadata": {
        "id": "Ov_fnPOBTXAp",
        "colab_type": "code",
        "colab": {}
      },
      "source": [
        "from dataclasses import dataclass\n",
        "\n",
        "batch_size = 128\n",
        "hist_win = 8\n",
        "pred_win = 1\n",
        "\n",
        "@dataclass\n",
        "class DateRange:\n",
        "  \"\"\"Specifies a range of dates, using [start, end).\"\"\"\n",
        "  start: str = None\n",
        "  end: str = None\n",
        "\n",
        "train_date_range = DateRange('2003-01-01', '2017-01-01')\n",
        "eval_date_range = DateRange('2017-01-01', '2020-01-01')"
      ],
      "execution_count": 2,
      "outputs": []
    },
    {
      "cell_type": "code",
      "metadata": {
        "id": "LZ_5pbU3TXAr",
        "colab_type": "code",
        "colab": {
          "base_uri": "https://localhost:8080/",
          "height": 348
        },
        "outputId": "3d3f571b-b84a-479a-bc3d-0bf7daaa32f3"
      },
      "source": [
        "def load_df(ticker, date_range: DateRange):\n",
        "  \"\"\"Loads the DataFrame for ticker between [start_date, end_date).\"\"\"\n",
        "  df = pd.read_csv(f'~/data/stock/kaggle/full_history/{ticker}.csv')\n",
        "  df['date'] = pd.to_datetime(df['date'])\n",
        "  if date_range.start:\n",
        "    df = df.query(f'date >= \"{date_range.start}\"')\n",
        "  if date_range.end:\n",
        "    df = df.query(f'date < \"{date_range.end}\"')\n",
        "  # reverse so oldest is first\n",
        "  df = df.iloc[::-1].reset_index(drop=True)\n",
        "  return df\n",
        "\n",
        "df = load_df('GOOG', train_date_range)\n",
        "df.head(10)"
      ],
      "execution_count": 3,
      "outputs": [
        {
          "output_type": "execute_result",
          "data": {
            "text/plain": [
              "        date    volume       open       high        low      close   adjclose\n",
              "0 2004-08-19  44871300  49.813286  51.835709  47.800831  49.982655  49.982655\n",
              "1 2004-08-20  22942800  50.316402  54.336334  50.062355  53.952770  53.952770\n",
              "2 2004-08-23  18342800  55.168217  56.528118  54.321388  54.495735  54.495735\n",
              "3 2004-08-24  15319700  55.412300  55.591629  51.591621  52.239193  52.239193\n",
              "4 2004-08-25   9232100  52.284027  53.798351  51.746044  52.802086  52.802086\n",
              "5 2004-08-26   7128600  52.279045  53.773445  52.134586  53.753517  53.753517\n",
              "6 2004-08-27   6241200  53.848164  54.107193  52.647663  52.876804  52.876804\n",
              "7 2004-08-30   5221400  52.443428  52.548038  50.814533  50.814533  50.814533\n",
              "8 2004-08-31   4941200  50.958992  51.661362  50.889256  50.993862  50.993862\n",
              "9 2004-09-01   9181600  51.158245  51.292744  49.648903  49.937820  49.937820"
            ],
            "text/html": [
              "<div>\n",
              "<style scoped>\n",
              "    .dataframe tbody tr th:only-of-type {\n",
              "        vertical-align: middle;\n",
              "    }\n",
              "\n",
              "    .dataframe tbody tr th {\n",
              "        vertical-align: top;\n",
              "    }\n",
              "\n",
              "    .dataframe thead th {\n",
              "        text-align: right;\n",
              "    }\n",
              "</style>\n",
              "<table border=\"1\" class=\"dataframe\">\n",
              "  <thead>\n",
              "    <tr style=\"text-align: right;\">\n",
              "      <th></th>\n",
              "      <th>date</th>\n",
              "      <th>volume</th>\n",
              "      <th>open</th>\n",
              "      <th>high</th>\n",
              "      <th>low</th>\n",
              "      <th>close</th>\n",
              "      <th>adjclose</th>\n",
              "    </tr>\n",
              "  </thead>\n",
              "  <tbody>\n",
              "    <tr>\n",
              "      <th>0</th>\n",
              "      <td>2004-08-19</td>\n",
              "      <td>44871300</td>\n",
              "      <td>49.813286</td>\n",
              "      <td>51.835709</td>\n",
              "      <td>47.800831</td>\n",
              "      <td>49.982655</td>\n",
              "      <td>49.982655</td>\n",
              "    </tr>\n",
              "    <tr>\n",
              "      <th>1</th>\n",
              "      <td>2004-08-20</td>\n",
              "      <td>22942800</td>\n",
              "      <td>50.316402</td>\n",
              "      <td>54.336334</td>\n",
              "      <td>50.062355</td>\n",
              "      <td>53.952770</td>\n",
              "      <td>53.952770</td>\n",
              "    </tr>\n",
              "    <tr>\n",
              "      <th>2</th>\n",
              "      <td>2004-08-23</td>\n",
              "      <td>18342800</td>\n",
              "      <td>55.168217</td>\n",
              "      <td>56.528118</td>\n",
              "      <td>54.321388</td>\n",
              "      <td>54.495735</td>\n",
              "      <td>54.495735</td>\n",
              "    </tr>\n",
              "    <tr>\n",
              "      <th>3</th>\n",
              "      <td>2004-08-24</td>\n",
              "      <td>15319700</td>\n",
              "      <td>55.412300</td>\n",
              "      <td>55.591629</td>\n",
              "      <td>51.591621</td>\n",
              "      <td>52.239193</td>\n",
              "      <td>52.239193</td>\n",
              "    </tr>\n",
              "    <tr>\n",
              "      <th>4</th>\n",
              "      <td>2004-08-25</td>\n",
              "      <td>9232100</td>\n",
              "      <td>52.284027</td>\n",
              "      <td>53.798351</td>\n",
              "      <td>51.746044</td>\n",
              "      <td>52.802086</td>\n",
              "      <td>52.802086</td>\n",
              "    </tr>\n",
              "    <tr>\n",
              "      <th>5</th>\n",
              "      <td>2004-08-26</td>\n",
              "      <td>7128600</td>\n",
              "      <td>52.279045</td>\n",
              "      <td>53.773445</td>\n",
              "      <td>52.134586</td>\n",
              "      <td>53.753517</td>\n",
              "      <td>53.753517</td>\n",
              "    </tr>\n",
              "    <tr>\n",
              "      <th>6</th>\n",
              "      <td>2004-08-27</td>\n",
              "      <td>6241200</td>\n",
              "      <td>53.848164</td>\n",
              "      <td>54.107193</td>\n",
              "      <td>52.647663</td>\n",
              "      <td>52.876804</td>\n",
              "      <td>52.876804</td>\n",
              "    </tr>\n",
              "    <tr>\n",
              "      <th>7</th>\n",
              "      <td>2004-08-30</td>\n",
              "      <td>5221400</td>\n",
              "      <td>52.443428</td>\n",
              "      <td>52.548038</td>\n",
              "      <td>50.814533</td>\n",
              "      <td>50.814533</td>\n",
              "      <td>50.814533</td>\n",
              "    </tr>\n",
              "    <tr>\n",
              "      <th>8</th>\n",
              "      <td>2004-08-31</td>\n",
              "      <td>4941200</td>\n",
              "      <td>50.958992</td>\n",
              "      <td>51.661362</td>\n",
              "      <td>50.889256</td>\n",
              "      <td>50.993862</td>\n",
              "      <td>50.993862</td>\n",
              "    </tr>\n",
              "    <tr>\n",
              "      <th>9</th>\n",
              "      <td>2004-09-01</td>\n",
              "      <td>9181600</td>\n",
              "      <td>51.158245</td>\n",
              "      <td>51.292744</td>\n",
              "      <td>49.648903</td>\n",
              "      <td>49.937820</td>\n",
              "      <td>49.937820</td>\n",
              "    </tr>\n",
              "  </tbody>\n",
              "</table>\n",
              "</div>"
            ]
          },
          "metadata": {
            "tags": []
          },
          "execution_count": 3
        }
      ]
    },
    {
      "cell_type": "code",
      "metadata": {
        "id": "2uVfcDoOtBJI",
        "colab_type": "code",
        "colab": {
          "base_uri": "https://localhost:8080/",
          "height": 521
        },
        "outputId": "42797cd0-e814-4162-b458-7d9fce6304de"
      },
      "source": [
        "df.tail(10)"
      ],
      "execution_count": 4,
      "outputs": [
        {
          "output_type": "execute_result",
          "data": {
            "text/plain": [
              "           date   volume        open        high         low       close  \\\n",
              "3105 2016-12-16  2443800  800.400024  800.856018  790.289978  790.799988   \n",
              "3106 2016-12-19  1232100  790.219971  797.659973  786.270020  794.200012   \n",
              "3107 2016-12-20   951000  796.760010  798.650024  793.270020  796.419983   \n",
              "3108 2016-12-21  1211300  795.840027  796.676025  787.099976  794.559998   \n",
              "3109 2016-12-22   972200  792.359985  793.320007  788.580017  791.260010   \n",
              "3110 2016-12-23   623400  790.900024  792.739990  787.280029  789.909973   \n",
              "3111 2016-12-27   789100  790.679993  797.859985  787.656982  791.549988   \n",
              "3112 2016-12-28  1153800  793.700012  794.229980  783.200012  785.049988   \n",
              "3113 2016-12-29   744300  783.330017  785.929993  778.919983  782.789978   \n",
              "3114 2016-12-30  1770000  782.750000  782.780029  770.409973  771.820007   \n",
              "\n",
              "        adjclose  \n",
              "3105  790.799988  \n",
              "3106  794.200012  \n",
              "3107  796.419983  \n",
              "3108  794.559998  \n",
              "3109  791.260010  \n",
              "3110  789.909973  \n",
              "3111  791.549988  \n",
              "3112  785.049988  \n",
              "3113  782.789978  \n",
              "3114  771.820007  "
            ],
            "text/html": [
              "<div>\n",
              "<style scoped>\n",
              "    .dataframe tbody tr th:only-of-type {\n",
              "        vertical-align: middle;\n",
              "    }\n",
              "\n",
              "    .dataframe tbody tr th {\n",
              "        vertical-align: top;\n",
              "    }\n",
              "\n",
              "    .dataframe thead th {\n",
              "        text-align: right;\n",
              "    }\n",
              "</style>\n",
              "<table border=\"1\" class=\"dataframe\">\n",
              "  <thead>\n",
              "    <tr style=\"text-align: right;\">\n",
              "      <th></th>\n",
              "      <th>date</th>\n",
              "      <th>volume</th>\n",
              "      <th>open</th>\n",
              "      <th>high</th>\n",
              "      <th>low</th>\n",
              "      <th>close</th>\n",
              "      <th>adjclose</th>\n",
              "    </tr>\n",
              "  </thead>\n",
              "  <tbody>\n",
              "    <tr>\n",
              "      <th>3105</th>\n",
              "      <td>2016-12-16</td>\n",
              "      <td>2443800</td>\n",
              "      <td>800.400024</td>\n",
              "      <td>800.856018</td>\n",
              "      <td>790.289978</td>\n",
              "      <td>790.799988</td>\n",
              "      <td>790.799988</td>\n",
              "    </tr>\n",
              "    <tr>\n",
              "      <th>3106</th>\n",
              "      <td>2016-12-19</td>\n",
              "      <td>1232100</td>\n",
              "      <td>790.219971</td>\n",
              "      <td>797.659973</td>\n",
              "      <td>786.270020</td>\n",
              "      <td>794.200012</td>\n",
              "      <td>794.200012</td>\n",
              "    </tr>\n",
              "    <tr>\n",
              "      <th>3107</th>\n",
              "      <td>2016-12-20</td>\n",
              "      <td>951000</td>\n",
              "      <td>796.760010</td>\n",
              "      <td>798.650024</td>\n",
              "      <td>793.270020</td>\n",
              "      <td>796.419983</td>\n",
              "      <td>796.419983</td>\n",
              "    </tr>\n",
              "    <tr>\n",
              "      <th>3108</th>\n",
              "      <td>2016-12-21</td>\n",
              "      <td>1211300</td>\n",
              "      <td>795.840027</td>\n",
              "      <td>796.676025</td>\n",
              "      <td>787.099976</td>\n",
              "      <td>794.559998</td>\n",
              "      <td>794.559998</td>\n",
              "    </tr>\n",
              "    <tr>\n",
              "      <th>3109</th>\n",
              "      <td>2016-12-22</td>\n",
              "      <td>972200</td>\n",
              "      <td>792.359985</td>\n",
              "      <td>793.320007</td>\n",
              "      <td>788.580017</td>\n",
              "      <td>791.260010</td>\n",
              "      <td>791.260010</td>\n",
              "    </tr>\n",
              "    <tr>\n",
              "      <th>3110</th>\n",
              "      <td>2016-12-23</td>\n",
              "      <td>623400</td>\n",
              "      <td>790.900024</td>\n",
              "      <td>792.739990</td>\n",
              "      <td>787.280029</td>\n",
              "      <td>789.909973</td>\n",
              "      <td>789.909973</td>\n",
              "    </tr>\n",
              "    <tr>\n",
              "      <th>3111</th>\n",
              "      <td>2016-12-27</td>\n",
              "      <td>789100</td>\n",
              "      <td>790.679993</td>\n",
              "      <td>797.859985</td>\n",
              "      <td>787.656982</td>\n",
              "      <td>791.549988</td>\n",
              "      <td>791.549988</td>\n",
              "    </tr>\n",
              "    <tr>\n",
              "      <th>3112</th>\n",
              "      <td>2016-12-28</td>\n",
              "      <td>1153800</td>\n",
              "      <td>793.700012</td>\n",
              "      <td>794.229980</td>\n",
              "      <td>783.200012</td>\n",
              "      <td>785.049988</td>\n",
              "      <td>785.049988</td>\n",
              "    </tr>\n",
              "    <tr>\n",
              "      <th>3113</th>\n",
              "      <td>2016-12-29</td>\n",
              "      <td>744300</td>\n",
              "      <td>783.330017</td>\n",
              "      <td>785.929993</td>\n",
              "      <td>778.919983</td>\n",
              "      <td>782.789978</td>\n",
              "      <td>782.789978</td>\n",
              "    </tr>\n",
              "    <tr>\n",
              "      <th>3114</th>\n",
              "      <td>2016-12-30</td>\n",
              "      <td>1770000</td>\n",
              "      <td>782.750000</td>\n",
              "      <td>782.780029</td>\n",
              "      <td>770.409973</td>\n",
              "      <td>771.820007</td>\n",
              "      <td>771.820007</td>\n",
              "    </tr>\n",
              "  </tbody>\n",
              "</table>\n",
              "</div>"
            ]
          },
          "metadata": {
            "tags": []
          },
          "execution_count": 4
        }
      ]
    },
    {
      "cell_type": "code",
      "metadata": {
        "id": "It30Ts8cTXAu",
        "colab_type": "code",
        "colab": {}
      },
      "source": [
        "from torch.utils.data.dataset import Dataset\n",
        "from torch.utils.data import DataLoader\n",
        "\n",
        "# Caveats\n",
        "#   - looks at only 1 column\n",
        "class StockSeqDataset(Dataset):\n",
        "    def __init__(self, df, column='adjclose', hist_win=hist_win, pred_win=pred_win):\n",
        "        self.df = df\n",
        "        self.col = column\n",
        "        self.hist_win = hist_win\n",
        "        self.pred_win = pred_win\n",
        "    \n",
        "    def __getitem__(self, index):\n",
        "        assert 0 <= index < len(self)\n",
        "        x_end = index + self.hist_win\n",
        "        x = self.df.iloc[index:x_end][self.col]\n",
        "        y = self.df.iloc[x_end:x_end+self.pred_win][self.col]\n",
        "        return (th.from_numpy(np.array(x, dtype=np.float32)),\n",
        "                th.from_numpy(np.array(y, dtype=np.float32)))\n",
        "    \n",
        "    def __len__(self):\n",
        "        return len(self.df) - self.hist_win - self.pred_win + 1\n",
        "\n",
        "ds = StockSeqDataset(df)\n",
        "\n",
        "dl = DataLoader(dataset=ds, batch_size=batch_size, shuffle=True)"
      ],
      "execution_count": 5,
      "outputs": []
    },
    {
      "cell_type": "code",
      "metadata": {
        "id": "1F7NjiF0TXAw",
        "colab_type": "code",
        "colab": {
          "base_uri": "https://localhost:8080/",
          "height": 72
        },
        "outputId": "0105540e-de43-41ff-8e41-262a8c577901"
      },
      "source": [
        "ds[0]"
      ],
      "execution_count": 6,
      "outputs": [
        {
          "output_type": "execute_result",
          "data": {
            "text/plain": [
              "(tensor([49.9827, 53.9528, 54.4957, 52.2392, 52.8021, 53.7535, 52.8768, 50.8145]),\n",
              " tensor([50.9939]))"
            ]
          },
          "metadata": {
            "tags": []
          },
          "execution_count": 6
        }
      ]
    },
    {
      "cell_type": "code",
      "metadata": {
        "id": "bqti8wGzTXAz",
        "colab_type": "code",
        "colab": {
          "base_uri": "https://localhost:8080/",
          "height": 52
        },
        "outputId": "ecd8cd7b-68fe-4aa2-8742-672a39b0ade0"
      },
      "source": [
        "for x, y in dl:\n",
        "    print(x.shape)\n",
        "    print(y.shape)\n",
        "    break"
      ],
      "execution_count": 7,
      "outputs": [
        {
          "output_type": "stream",
          "text": [
            "torch.Size([128, 8])\n",
            "torch.Size([128, 1])\n"
          ],
          "name": "stdout"
        }
      ]
    },
    {
      "cell_type": "markdown",
      "metadata": {
        "id": "aOpyV9RT4Bxv",
        "colab_type": "text"
      },
      "source": [
        "# Model"
      ]
    },
    {
      "cell_type": "code",
      "metadata": {
        "id": "N63x007vTXA1",
        "colab_type": "code",
        "colab": {
          "base_uri": "https://localhost:8080/",
          "height": 935
        },
        "outputId": "a9c99509-2346-422c-8876-fdd17c1f4e8c"
      },
      "source": [
        "model = th.nn.Sequential(\n",
        "    th.nn.Linear(hist_win, pred_win),\n",
        "    #th.nn.ReLU(),\n",
        "    #th.nn.Linear(100, pred_win),\n",
        ")\n",
        "\n",
        "loss_fn = th.nn.MSELoss()\n",
        "\n",
        "learning_rate = 0.005\n",
        "optimizer = th.optim.Adam(model.parameters(), lr=learning_rate, betas=(0.5, 0.5))\n",
        "lr_schedule = th.optim.lr_scheduler.ExponentialLR(optimizer, 0.9)\n",
        "\n",
        "steps = 50\n",
        "for epoch in range(steps):\n",
        "    loss_avg = 0\n",
        "    for x, y in dl:\n",
        "        optimizer.zero_grad()\n",
        "        y_pred = model(x)\n",
        "        loss = loss_fn(y_pred, y)\n",
        "        loss.backward()\n",
        "        optimizer.step()\n",
        "        loss_avg += loss.item()\n",
        "        #print(loss.item())\n",
        "    lr_schedule.step()\n",
        "    print(f'{lr_schedule.get_lr()[0]:.5f} {loss_avg / len(dl)}')"
      ],
      "execution_count": 8,
      "outputs": [
        {
          "output_type": "stream",
          "text": [
            "/home/z/.local/lib/python3.8/site-packages/torch/optim/lr_scheduler.py:425: UserWarning: To get the last learning rate computed by the scheduler, please use `get_last_lr()`.\n",
            "  warnings.warn(\"To get the last learning rate computed by the scheduler, \"\n"
          ],
          "name": "stderr"
        },
        {
          "output_type": "stream",
          "text": [
            "0.00405 3428.3155012512207\n",
            "0.00365 86.99801177978516\n",
            "0.00328 80.5629133605957\n",
            "0.00295 80.13662170410156\n",
            "0.00266 78.19007507324218\n",
            "0.00239 76.86401763916015\n",
            "0.00215 75.29032745361329\n",
            "0.00194 75.60912185668946\n",
            "0.00174 76.36066909790038\n",
            "0.00157 73.15467315673828\n",
            "0.00141 72.4154948425293\n",
            "0.00127 71.13162017822266\n",
            "0.00114 70.34543197631837\n",
            "0.00103 68.91767486572266\n",
            "0.00093 69.52172637939454\n",
            "0.00083 67.99587966918945\n",
            "0.00075 68.44377990722656\n",
            "0.00068 68.93886093139649\n",
            "0.00061 66.97103607177735\n",
            "0.00055 67.7565592956543\n",
            "0.00049 66.57399551391602\n",
            "0.00044 67.20559158325196\n",
            "0.00040 66.72162620544434\n",
            "0.00036 66.24928039550781\n",
            "0.00032 64.75654823303222\n",
            "0.00029 69.96399520874023\n",
            "0.00026 64.71116348266601\n",
            "0.00024 66.7393571472168\n",
            "0.00021 68.31582229614258\n",
            "0.00019 64.47771362304688\n",
            "0.00017 66.26123611450195\n",
            "0.00015 65.34037841796875\n",
            "0.00014 64.89490585327148\n",
            "0.00013 64.2680599975586\n",
            "0.00011 64.10105621337891\n",
            "0.00010 63.80478302001953\n",
            "0.00009 63.6213419342041\n",
            "0.00008 65.02284835815429\n",
            "0.00007 63.97649353027344\n",
            "0.00007 65.03127349853516\n",
            "0.00006 63.90389007568359\n",
            "0.00005 63.84707290649414\n",
            "0.00005 64.31575729370117\n",
            "0.00004 66.82794174194336\n",
            "0.00004 64.05396636962891\n",
            "0.00004 63.47646240234375\n",
            "0.00003 63.620319519042965\n",
            "0.00003 63.684578552246094\n",
            "0.00003 63.74192764282227\n",
            "0.00002 63.05094230651856\n"
          ],
          "name": "stdout"
        }
      ]
    },
    {
      "cell_type": "code",
      "metadata": {
        "id": "jhIPJsQITXA5",
        "colab_type": "code",
        "colab": {
          "base_uri": "https://localhost:8080/",
          "height": 35
        },
        "outputId": "6d84f823-3525-4372-a370-12dbf6736a5b"
      },
      "source": [
        "lr_schedule.get_lr()"
      ],
      "execution_count": 9,
      "outputs": [
        {
          "output_type": "execute_result",
          "data": {
            "text/plain": [
              "[2.3191988432940557e-05]"
            ]
          },
          "metadata": {
            "tags": []
          },
          "execution_count": 9
        }
      ]
    },
    {
      "cell_type": "code",
      "metadata": {
        "id": "vj1dKyQbTXA7",
        "colab_type": "code",
        "colab": {
          "base_uri": "https://localhost:8080/",
          "height": 124
        },
        "outputId": "3ca37430-d39e-4745-ac63-c39a117cccb3"
      },
      "source": [
        "y.t()"
      ],
      "execution_count": 10,
      "outputs": [
        {
          "output_type": "execute_result",
          "data": {
            "text/plain": [
              "tensor([[187.0539, 166.4063,  93.6390, 234.8746, 581.0647, 286.0179, 310.3617,\n",
              "          85.9528, 523.4000, 432.5338, 274.0229, 457.5600,  89.2903, 208.1897,\n",
              "         344.2746,  89.4497, 303.5921, 141.4946, 208.0701, 209.9431, 254.4861,\n",
              "         244.9419, 699.5600, 348.3692, 237.6692, 183.8509, 458.4018, 255.6717,\n",
              "         227.4276, 230.9444, 240.6032, 207.8360, 443.6620, 266.0179, 302.8548]])"
            ]
          },
          "metadata": {
            "tags": []
          },
          "execution_count": 10
        }
      ]
    },
    {
      "cell_type": "code",
      "metadata": {
        "id": "uDU4aZIRTXA-",
        "colab_type": "code",
        "colab": {
          "base_uri": "https://localhost:8080/",
          "height": 141
        },
        "outputId": "2439445b-8661-460d-aed6-790e42ae3697"
      },
      "source": [
        "model(x).t()"
      ],
      "execution_count": 11,
      "outputs": [
        {
          "output_type": "execute_result",
          "data": {
            "text/plain": [
              "tensor([[192.8963, 158.0837,  97.5889, 233.8664, 585.6243, 288.5129, 308.8554,\n",
              "          90.2777, 525.2061, 441.8520, 284.3418, 456.8186,  89.3508, 211.2000,\n",
              "         341.9984,  89.7095, 303.6370, 144.7435, 204.8161, 207.8979, 255.0943,\n",
              "         239.2471, 703.0855, 352.0005, 246.2082, 189.6337, 449.9195, 253.7966,\n",
              "         223.4513, 228.5066, 243.9498, 202.7342, 446.5865, 261.3202, 298.7997]],\n",
              "       grad_fn=<TBackward>)"
            ]
          },
          "metadata": {
            "tags": []
          },
          "execution_count": 11
        }
      ]
    },
    {
      "cell_type": "markdown",
      "metadata": {
        "id": "M9vxUEfYoibx",
        "colab_type": "text"
      },
      "source": [
        "# Baseline Models"
      ]
    },
    {
      "cell_type": "code",
      "metadata": {
        "id": "Tgsn8xw3ojkM",
        "colab_type": "code",
        "colab": {}
      },
      "source": [
        "class MeanModel(th.nn.Module):\n",
        "    def forward(self, x):\n",
        "        return x.mean(dim=-1).unsqueeze(axis=1)"
      ],
      "execution_count": 12,
      "outputs": []
    },
    {
      "cell_type": "markdown",
      "metadata": {
        "id": "iB_w0lVD4QEu",
        "colab_type": "text"
      },
      "source": [
        "# Validation"
      ]
    },
    {
      "cell_type": "code",
      "metadata": {
        "id": "ABoCQ3hzTXBC",
        "colab_type": "code",
        "colab": {
          "base_uri": "https://localhost:8080/",
          "height": 124
        },
        "outputId": "978d6e05-5caa-4e02-9f11-6d6ed3fd525b"
      },
      "source": [
        "list(model.parameters())"
      ],
      "execution_count": 13,
      "outputs": [
        {
          "output_type": "execute_result",
          "data": {
            "text/plain": [
              "[Parameter containing:\n",
              " tensor([[ 0.1410,  0.0774, -0.2343,  0.3322, -0.1598,  0.1632,  0.2747,  0.4078]],\n",
              "        requires_grad=True),\n",
              " Parameter containing:\n",
              " tensor([-0.1568], requires_grad=True)]"
            ]
          },
          "metadata": {
            "tags": []
          },
          "execution_count": 13
        }
      ]
    },
    {
      "cell_type": "code",
      "metadata": {
        "id": "gdf3PstYTXBA",
        "colab_type": "code",
        "colab": {}
      },
      "source": [
        "def validate(model, ticker):\n",
        "  assert pred_win == 1\n",
        "  df = load_df(ticker, eval_date_range)\n",
        "  ds = StockSeqDataset(df)\n",
        "  dl = DataLoader(dataset=ds, batch_size=batch_size, shuffle=False)\n",
        "  for i, (x, y) in enumerate(dl):\n",
        "    start = batch_size * i + hist_win  # prediction is offset by hist_win\n",
        "    end = start + batch_size - 1  # slice end is inclusive\n",
        "    with th.no_grad():\n",
        "      y_pred = model(x)\n",
        "    y = y.cpu().numpy().squeeze()\n",
        "    y_pred = y_pred.cpu().numpy().squeeze()\n",
        "    #import pdb; pdb.set_trace()\n",
        "    df.loc[start:end, 'actual'] = y\n",
        "    df.loc[start:end, 'pred'] = y_pred\n",
        "  return df\n",
        "\n",
        "def plot(df, cols=['actual', 'pred']):\n",
        " df.plot(x='date', y=cols, figsize=(10, 8))"
      ],
      "execution_count": 14,
      "outputs": []
    },
    {
      "cell_type": "code",
      "metadata": {
        "id": "PO_vZH-4TXBE",
        "colab_type": "code",
        "colab": {
          "base_uri": "https://localhost:8080/",
          "height": 473
        },
        "outputId": "2e4c4f17-e9f8-4708-c004-db5d2e19f507"
      },
      "source": [
        "df_pred = validate(model, 'FB')\n",
        "plot(df_pred)"
      ],
      "execution_count": 15,
      "outputs": [
        {
          "output_type": "display_data",
          "data": {
            "text/plain": [
              "<Figure size 720x576 with 1 Axes>"
            ],
            "image/png": "[encoded data removed]"
          },
          "metadata": {
            "tags": []
          }
        }
      ]
    },
    {
      "cell_type": "code",
      "metadata": {
        "id": "UrYuKN81TXBJ",
        "colab_type": "code",
        "colab": {
          "base_uri": "https://localhost:8080/",
          "height": 473
        },
        "outputId": "7fda4100-79e2-4e25-89dc-d416387ea656"
      },
      "source": [
        "df_pred = validate(MeanModel(), 'FB')\n",
        "plot(df_pred)"
      ],
      "execution_count": 16,
      "outputs": [
        {
          "output_type": "display_data",
          "data": {
            "text/plain": [
              "<Figure size 720x576 with 1 Axes>"
            ],
            "image/png": "[encoded data removed]"
          },
          "metadata": {
            "tags": []
          }
        }
      ]
    },
    {
      "cell_type": "markdown",
      "metadata": {
        "id": "r_faUFu04Y4M",
        "colab_type": "text"
      },
      "source": [
        "# Strategy"
      ]
    },
    {
      "cell_type": "code",
      "metadata": {
        "id": "DbgwUJ5-Aibs",
        "colab_type": "code",
        "colab": {}
      },
      "source": [
        "class SimpleStrategy:\n",
        "  \"\"\"Simple strategy\n",
        "\n",
        "  If day's predicted change is positive, hold through day.\n",
        "  If day's predicted change is negative, skip the day.\n",
        "  \"\"\"\n",
        "  def __init__(self, model):\n",
        "    self.model = model\n",
        "\n",
        "  def compute_hold(self, ticker):\n",
        "    df_pred = validate(self.model, ticker)\n",
        "    df_pred = df_pred.dropna(subset=('actual', 'pred'))\n",
        "    actual, pred = df_pred['actual'].values, df_pred['pred'].values\n",
        "    assert len(actual) == len(pred)\n",
        "    hold = pred[1:] > pred[:-1]\n",
        "    return pd.DataFrame.from_dict({\n",
        "        'actual': actual[1:],\n",
        "        'pred': pred[1:],\n",
        "        'hold': hold,\n",
        "    })\n",
        "\n",
        "def compute_returns(df):\n",
        "  df = df.copy()\n",
        "  df.loc[:, 'roi_actual'] = df.actual / df.actual.shift(1)\n",
        "  df.loc[:, 'roi_pred'] = df.pred / df.pred.shift(1)\n",
        "  return df\n",
        "\n",
        "def total_return(df, query=None):\n",
        "  if query:\n",
        "    df = df.query(query)\n",
        "  roi_actual = df.roi_actual.product()\n",
        "  roi_pred = df.roi_pred.product()\n",
        "  return roi_actual, roi_pred\n",
        "\n",
        "def evaluate_models(models, tickers):\n",
        "  strats = {name: SimpleStrategy(model) for name, model in models.items()}\n",
        "  df_actual = pd.DataFrame()\n",
        "  df_pred = pd.DataFrame()\n",
        "  \n",
        "  for ticker in tickers:\n",
        "    for strat_name, strat in strats.items():\n",
        "      df_hold = strat.compute_hold(ticker)\n",
        "      df_roi = compute_returns(df_hold)\n",
        "      \n",
        "      all = total_return(df_roi)\n",
        "      hold = total_return(df_roi, 'hold == True')\n",
        "      not_hold = total_return(df_roi, 'hold == False')\n",
        "\n",
        "      df_actual.loc[strat_name + ': all', ticker] = all[0]\n",
        "      df_actual.loc[strat_name + ': hold', ticker] = hold[0]\n",
        "      df_actual.loc[strat_name + ': !hold', ticker] = not_hold[0]\n",
        "      df_pred.loc[strat_name + ': all', ticker] = all[1]\n",
        "      df_pred.loc[strat_name + ': hold', ticker] = hold[1]\n",
        "      df_pred.loc[strat_name + ': !hold', ticker] = not_hold[1]\n",
        "  return df_actual, df_pred\n"
      ],
      "execution_count": 21,
      "outputs": []
    },
    {
      "cell_type": "code",
      "metadata": {
        "id": "ydyvSoMS08W2",
        "colab_type": "code",
        "colab": {
          "base_uri": "https://localhost:8080/",
          "height": 228
        },
        "outputId": "c3a4ebde-af2e-4a47-8ea6-f0be58fe091c"
      },
      "source": [
        "models = {\n",
        "    'mean': MeanModel(),\n",
        "    'linear': model,\n",
        "}\n",
        "tickers = [\n",
        "    'FB',\n",
        "    'GOOG',\n",
        "    'AAPL',\n",
        "    'MSFT',\n",
        "    'SPY',\n",
        "]\n",
        "\n",
        "df_actual, df_pred = evaluate_models(models, tickers)\n",
        "df_actual"
      ],
      "execution_count": 23,
      "outputs": [
        {
          "output_type": "execute_result",
          "data": {
            "text/plain": [
              "                     FB      GOOG      AAPL      MSFT       SPY\n",
              "mean: all      1.605146  1.661700  2.561683  2.661719  1.505773\n",
              "mean: hold     1.191728  0.858175  1.725186  1.198619  1.311940\n",
              "mean: !hold    1.346907  1.936317  1.484874  2.220654  1.147745\n",
              "linear: all    1.605146  1.661700  2.561683  2.661719  1.505773\n",
              "linear: hold   0.866311  1.181861  1.794416  1.299995  1.332203\n",
              "linear: !hold  1.852851  1.406002  1.427586  2.047484  1.130287"
            ],
            "text/html": [
              "<div>\n",
              "<style scoped>\n",
              "    .dataframe tbody tr th:only-of-type {\n",
              "        vertical-align: middle;\n",
              "    }\n",
              "\n",
              "    .dataframe tbody tr th {\n",
              "        vertical-align: top;\n",
              "    }\n",
              "\n",
              "    .dataframe thead th {\n",
              "        text-align: right;\n",
              "    }\n",
              "</style>\n",
              "<table border=\"1\" class=\"dataframe\">\n",
              "  <thead>\n",
              "    <tr style=\"text-align: right;\">\n",
              "      <th></th>\n",
              "      <th>FB</th>\n",
              "      <th>GOOG</th>\n",
              "      <th>AAPL</th>\n",
              "      <th>MSFT</th>\n",
              "      <th>SPY</th>\n",
              "    </tr>\n",
              "  </thead>\n",
              "  <tbody>\n",
              "    <tr>\n",
              "      <th>mean: all</th>\n",
              "      <td>1.605146</td>\n",
              "      <td>1.661700</td>\n",
              "      <td>2.561683</td>\n",
              "      <td>2.661719</td>\n",
              "      <td>1.505773</td>\n",
              "    </tr>\n",
              "    <tr>\n",
              "      <th>mean: hold</th>\n",
              "      <td>1.191728</td>\n",
              "      <td>0.858175</td>\n",
              "      <td>1.725186</td>\n",
              "      <td>1.198619</td>\n",
              "      <td>1.311940</td>\n",
              "    </tr>\n",
              "    <tr>\n",
              "      <th>mean: !hold</th>\n",
              "      <td>1.346907</td>\n",
              "      <td>1.936317</td>\n",
              "      <td>1.484874</td>\n",
              "      <td>2.220654</td>\n",
              "      <td>1.147745</td>\n",
              "    </tr>\n",
              "    <tr>\n",
              "      <th>linear: all</th>\n",
              "      <td>1.605146</td>\n",
              "      <td>1.661700</td>\n",
              "      <td>2.561683</td>\n",
              "      <td>2.661719</td>\n",
              "      <td>1.505773</td>\n",
              "    </tr>\n",
              "    <tr>\n",
              "      <th>linear: hold</th>\n",
              "      <td>0.866311</td>\n",
              "      <td>1.181861</td>\n",
              "      <td>1.794416</td>\n",
              "      <td>1.299995</td>\n",
              "      <td>1.332203</td>\n",
              "    </tr>\n",
              "    <tr>\n",
              "      <th>linear: !hold</th>\n",
              "      <td>1.852851</td>\n",
              "      <td>1.406002</td>\n",
              "      <td>1.427586</td>\n",
              "      <td>2.047484</td>\n",
              "      <td>1.130287</td>\n",
              "    </tr>\n",
              "  </tbody>\n",
              "</table>\n",
              "</div>"
            ]
          },
          "metadata": {
            "tags": []
          },
          "execution_count": 23
        }
      ]
    }
  ]
}
