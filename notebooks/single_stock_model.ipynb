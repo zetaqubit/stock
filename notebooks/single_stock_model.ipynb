{
  "nbformat": 4,
  "nbformat_minor": 0,
  "metadata": {
    "kernelspec": {
      "display_name": "Python 3",
      "language": "python",
      "name": "python3"
    },
    "language_info": {
      "codemirror_mode": {
        "name": "ipython",
        "version": 3
      },
      "file_extension": ".py",
      "mimetype": "text/x-python",
      "name": "python",
      "nbconvert_exporter": "python",
      "pygments_lexer": "ipython3",
      "version": "3.6.3"
    },
    "colab": {
      "name": "single_stock_model.ipynb",
      "provenance": []
    }
  },
  "cells": [
    {
      "cell_type": "code",
      "metadata": {
        "id": "gjPhwU4sTXAk",
        "colab_type": "code",
        "colab": {}
      },
      "source": [
        "import matplotlib.pyplot as plt\n",
        "from matplotlib.pyplot import figure\n",
        "\n",
        "%matplotlib inline\n",
        "\n",
        "import pandas as pd\n",
        "import torch as th\n",
        "import numpy as np"
      ],
      "execution_count": 8,
      "outputs": []
    },
    {
      "cell_type": "code",
      "metadata": {
        "id": "Ov_fnPOBTXAp",
        "colab_type": "code",
        "colab": {}
      },
      "source": [
        "batch_size = 128\n",
        "hist_win = 7\n",
        "pred_win = 1"
      ],
      "execution_count": 9,
      "outputs": []
    },
    {
      "cell_type": "code",
      "metadata": {
        "id": "LZ_5pbU3TXAr",
        "colab_type": "code",
        "colab": {
          "base_uri": "https://localhost:8080/",
          "height": 198
        },
        "outputId": "b21d767c-d9b7-4068-8252-d07de5f38e5f"
      },
      "source": [
        "df = pd.read_csv('~/data/stock/kaggle/full_history/GOOG.csv')\n",
        "df.head()"
      ],
      "execution_count": 10,
      "outputs": [
        {
          "output_type": "execute_result",
          "data": {
            "text/plain": [
              "         date   volume         open         high          low        close  \\\n",
              "0  2020-07-02  1859100  1446.939941  1482.949951  1446.420044  1464.699951   \n",
              "1  2020-07-01  1775200  1411.099976  1443.000000  1409.819946  1438.040039   \n",
              "2  2020-06-30  2042400  1390.439941  1418.650024  1383.959961  1413.609985   \n",
              "3  2020-06-29  1810200  1358.180054  1395.599976  1347.010010  1394.969971   \n",
              "4  2020-06-26  4267700  1431.390015  1433.449951  1351.989990  1359.900024   \n",
              "\n",
              "      adjclose  \n",
              "0  1464.699951  \n",
              "1  1438.040039  \n",
              "2  1413.609985  \n",
              "3  1394.969971  \n",
              "4  1359.900024  "
            ],
            "text/html": [
              "<div>\n",
              "<style scoped>\n",
              "    .dataframe tbody tr th:only-of-type {\n",
              "        vertical-align: middle;\n",
              "    }\n",
              "\n",
              "    .dataframe tbody tr th {\n",
              "        vertical-align: top;\n",
              "    }\n",
              "\n",
              "    .dataframe thead th {\n",
              "        text-align: right;\n",
              "    }\n",
              "</style>\n",
              "<table border=\"1\" class=\"dataframe\">\n",
              "  <thead>\n",
              "    <tr style=\"text-align: right;\">\n",
              "      <th></th>\n",
              "      <th>date</th>\n",
              "      <th>volume</th>\n",
              "      <th>open</th>\n",
              "      <th>high</th>\n",
              "      <th>low</th>\n",
              "      <th>close</th>\n",
              "      <th>adjclose</th>\n",
              "    </tr>\n",
              "  </thead>\n",
              "  <tbody>\n",
              "    <tr>\n",
              "      <th>0</th>\n",
              "      <td>2020-07-02</td>\n",
              "      <td>1859100</td>\n",
              "      <td>1446.939941</td>\n",
              "      <td>1482.949951</td>\n",
              "      <td>1446.420044</td>\n",
              "      <td>1464.699951</td>\n",
              "      <td>1464.699951</td>\n",
              "    </tr>\n",
              "    <tr>\n",
              "      <th>1</th>\n",
              "      <td>2020-07-01</td>\n",
              "      <td>1775200</td>\n",
              "      <td>1411.099976</td>\n",
              "      <td>1443.000000</td>\n",
              "      <td>1409.819946</td>\n",
              "      <td>1438.040039</td>\n",
              "      <td>1438.040039</td>\n",
              "    </tr>\n",
              "    <tr>\n",
              "      <th>2</th>\n",
              "      <td>2020-06-30</td>\n",
              "      <td>2042400</td>\n",
              "      <td>1390.439941</td>\n",
              "      <td>1418.650024</td>\n",
              "      <td>1383.959961</td>\n",
              "      <td>1413.609985</td>\n",
              "      <td>1413.609985</td>\n",
              "    </tr>\n",
              "    <tr>\n",
              "      <th>3</th>\n",
              "      <td>2020-06-29</td>\n",
              "      <td>1810200</td>\n",
              "      <td>1358.180054</td>\n",
              "      <td>1395.599976</td>\n",
              "      <td>1347.010010</td>\n",
              "      <td>1394.969971</td>\n",
              "      <td>1394.969971</td>\n",
              "    </tr>\n",
              "    <tr>\n",
              "      <th>4</th>\n",
              "      <td>2020-06-26</td>\n",
              "      <td>4267700</td>\n",
              "      <td>1431.390015</td>\n",
              "      <td>1433.449951</td>\n",
              "      <td>1351.989990</td>\n",
              "      <td>1359.900024</td>\n",
              "      <td>1359.900024</td>\n",
              "    </tr>\n",
              "  </tbody>\n",
              "</table>\n",
              "</div>"
            ]
          },
          "metadata": {
            "tags": []
          },
          "execution_count": 10
        }
      ]
    },
    {
      "cell_type": "code",
      "metadata": {
        "id": "It30Ts8cTXAu",
        "colab_type": "code",
        "colab": {}
      },
      "source": [
        "from torch.utils.data.dataset import Dataset\n",
        "from torch.utils.data import DataLoader\n",
        "\n",
        "# Caveats\n",
        "#   - looks at only 1 column\n",
        "class StockSeqDataset(Dataset):\n",
        "    def __init__(self, df, column='adjclose', hist_win=hist_win, pred_win=pred_win):\n",
        "        self.df = df\n",
        "        self.col = column\n",
        "        self.hist_win = hist_win\n",
        "        self.pred_win = pred_win\n",
        "    \n",
        "    def __getitem__(self, index):\n",
        "        assert 0 <= index < len(self)\n",
        "        x_end = index + self.hist_win\n",
        "        x = df.iloc[index:x_end][self.col]\n",
        "        y = df.iloc[x_end:x_end+self.pred_win][self.col]\n",
        "        return (th.from_numpy(np.array(x, dtype=np.float32)),\n",
        "                th.from_numpy(np.array(y, dtype=np.float32)))\n",
        "    \n",
        "    def __len__(self):\n",
        "        return len(self.df) - self.hist_win - self.pred_win + 1\n",
        "\n",
        "ds = StockSeqDataset(df)\n",
        "\n",
        "dl = DataLoader(dataset=ds, batch_size=batch_size, shuffle=True)"
      ],
      "execution_count": 11,
      "outputs": []
    },
    {
      "cell_type": "code",
      "metadata": {
        "id": "1F7NjiF0TXAw",
        "colab_type": "code",
        "colab": {
          "base_uri": "https://localhost:8080/",
          "height": 52
        },
        "outputId": "0867f6f1-6dea-4cda-b749-25a4124b879f"
      },
      "source": [
        "ds[len(ds) - 1]"
      ],
      "execution_count": 12,
      "outputs": [
        {
          "output_type": "execute_result",
          "data": {
            "text/plain": [
              "(tensor([50.8145, 52.8768, 53.7535, 52.8021, 52.2392, 54.4957, 53.9528]),\n",
              " tensor([49.9827]))"
            ]
          },
          "metadata": {
            "tags": []
          },
          "execution_count": 12
        }
      ]
    },
    {
      "cell_type": "code",
      "metadata": {
        "id": "bqti8wGzTXAz",
        "colab_type": "code",
        "colab": {
          "base_uri": "https://localhost:8080/",
          "height": 52
        },
        "outputId": "4fe8ced8-0343-4ca9-aaf0-d72cd1d4a0a1"
      },
      "source": [
        "for x, y in dl:\n",
        "    print(x.shape)\n",
        "    print(y.shape)\n",
        "    break"
      ],
      "execution_count": 13,
      "outputs": [
        {
          "output_type": "stream",
          "text": [
            "torch.Size([128, 7])\n",
            "torch.Size([128, 1])\n"
          ],
          "name": "stdout"
        }
      ]
    },
    {
      "cell_type": "code",
      "metadata": {
        "id": "N63x007vTXA1",
        "colab_type": "code",
        "colab": {
          "base_uri": "https://localhost:8080/",
          "height": 397
        },
        "outputId": "0796eb71-ee34-48b5-ff66-3160b0c2a1df"
      },
      "source": [
        "model = th.nn.Sequential(\n",
        "    th.nn.Linear(hist_win, pred_win),\n",
        "    #th.nn.ReLU(),\n",
        "    #th.nn.Linear(100, pred_win),\n",
        ")\n",
        "\n",
        "loss_fn = th.nn.MSELoss()\n",
        "\n",
        "learning_rate = 0.005\n",
        "optimizer = th.optim.Adam(model.parameters(), lr=learning_rate, betas=(0.5, 0.5))\n",
        "lr_schedule = th.optim.lr_scheduler.ExponentialLR(optimizer, 0.9)\n",
        "\n",
        "for epoch in range(20):\n",
        "    loss_avg = 0\n",
        "    for x, y in dl:\n",
        "        optimizer.zero_grad()\n",
        "        y_pred = model(x)\n",
        "        loss = loss_fn(y_pred, y)\n",
        "        loss.backward()\n",
        "        optimizer.step()\n",
        "        loss_avg += loss.item()\n",
        "        #print(loss.item())\n",
        "    lr_schedule.step()\n",
        "    print(f'{lr_schedule.get_lr()[0]:.5f} {loss_avg / len(dl)}')"
      ],
      "execution_count": 14,
      "outputs": [
        {
          "output_type": "stream",
          "text": [
            "/home/z/.local/lib/python3.8/site-packages/torch/optim/lr_scheduler.py:425: UserWarning: To get the last learning rate computed by the scheduler, please use `get_last_lr()`.\n",
            "  warnings.warn(\"To get the last learning rate computed by the scheduler, \"\n"
          ],
          "name": "stderr"
        },
        {
          "output_type": "stream",
          "text": [
            "0.00405 780802.9736328125\n",
            "0.00365 66185.73609280586\n",
            "0.00328 223.3064558506012\n",
            "0.00295 221.34980511665344\n",
            "0.00266 207.60730147361755\n",
            "0.00239 208.96934485435486\n",
            "0.00215 205.91821122169495\n",
            "0.00194 206.91457450389862\n",
            "0.00174 207.60276556015015\n",
            "0.00157 196.41852164268494\n",
            "0.00141 187.75421285629272\n",
            "0.00127 197.85498690605164\n",
            "0.00114 188.61241006851196\n",
            "0.00103 195.35809755325317\n",
            "0.00093 190.03267550468445\n",
            "0.00083 182.6825258731842\n",
            "0.00075 180.61653923988342\n",
            "0.00068 180.5643711090088\n",
            "0.00061 180.78356957435608\n",
            "0.00055 181.1865792274475\n"
          ],
          "name": "stdout"
        }
      ]
    },
    {
      "cell_type": "code",
      "metadata": {
        "id": "jhIPJsQITXA5",
        "colab_type": "code",
        "colab": {
          "base_uri": "https://localhost:8080/",
          "height": 35
        },
        "outputId": "ed589f64-7ddd-4800-f474-303b574a1f3f"
      },
      "source": [
        "lr_schedule.get_lr()"
      ],
      "execution_count": 15,
      "outputs": [
        {
          "output_type": "execute_result",
          "data": {
            "text/plain": [
              "[0.0005470949456575623]"
            ]
          },
          "metadata": {
            "tags": []
          },
          "execution_count": 15
        }
      ]
    },
    {
      "cell_type": "code",
      "metadata": {
        "id": "vj1dKyQbTXA7",
        "colab_type": "code",
        "colab": {
          "base_uri": "https://localhost:8080/",
          "height": 86
        },
        "outputId": "00ac39a9-0153-4b6e-c460-a43b414dbbfc"
      },
      "source": [
        "y.t()"
      ],
      "execution_count": 16,
      "outputs": [
        {
          "output_type": "execute_result",
          "data": {
            "text/plain": [
              "tensor([[1163.6899,  998.6800, 1202.3101, 1105.5200,  255.4176,  295.0939,\n",
              "          626.9100,  578.6115,  957.0900,  607.8068,  218.2220, 1458.6300,\n",
              "          109.4796,  737.7800,  537.6938,  240.4487, 1243.6400,  302.6506,\n",
              "          194.4860, 1372.5601,  183.3627]])"
            ]
          },
          "metadata": {
            "tags": []
          },
          "execution_count": 16
        }
      ]
    },
    {
      "cell_type": "code",
      "metadata": {
        "id": "uDU4aZIRTXA-",
        "colab_type": "code",
        "colab": {
          "base_uri": "https://localhost:8080/",
          "height": 86
        },
        "outputId": "70b270e0-7e1c-47c6-d036-e46da694df5a"
      },
      "source": [
        "model(x).t()"
      ],
      "execution_count": 17,
      "outputs": [
        {
          "output_type": "execute_result",
          "data": {
            "text/plain": [
              "tensor([[1120.2329, 1018.1248, 1221.7130, 1134.0724,  255.2432,  289.6360,\n",
              "          643.9533,  575.0045,  941.7716,  605.8735,  226.4985, 1457.9528,\n",
              "          110.5516,  738.0855,  530.7165,  237.3310, 1253.4470,  306.8478,\n",
              "          195.9410, 1385.5980,  177.5125]], grad_fn=<TBackward>)"
            ]
          },
          "metadata": {
            "tags": []
          },
          "execution_count": 17
        }
      ]
    },
    {
      "cell_type": "code",
      "metadata": {
        "id": "gdf3PstYTXBA",
        "colab_type": "code",
        "colab": {}
      },
      "source": [
        "def validate(model, ticker):\n",
        "    df = pd.read_csv(f'~/data/stock/kaggle/full_history/{ticker}.csv')\n",
        "    ds = StockSeqDataset(df)\n",
        "    dl = DataLoader(dataset=ds, batch_size=batch_size, shuffle=False)\n",
        "    loss_avg = 0\n",
        "    actual = []\n",
        "    predicted = []\n",
        "    for x, y in dl:\n",
        "        actual.append(y.detach().cpu().numpy())\n",
        "        optimizer.zero_grad()\n",
        "        y_pred = model(x)\n",
        "        predicted.append(y_pred.detach().cpu().numpy())\n",
        "        loss = loss_fn(y_pred, y)\n",
        "        loss_avg += loss.item()\n",
        "    actual = np.concatenate(actual)\n",
        "    predicted = np.concatenate(predicted)\n",
        "    print(predicted.shape)\n",
        "    loss_avg /= len(dl)\n",
        "    print(f'Avg loss: {loss_avg}')\n",
        "    return actual, predicted, loss_avg\n",
        "\n",
        "class MeanModel(th.nn.Module):\n",
        "    def forward(self, x):\n",
        "        return x.mean(dim=-1)\n",
        "\n",
        "def plot(predicted, actual):\n",
        "    plt.figure()\n",
        "    plt.plot(np.squeeze(predicted)[::-1])\n",
        "    plt.plot(np.squeeze(actual)[::-1])"
      ],
      "execution_count": 22,
      "outputs": []
    },
    {
      "cell_type": "code",
      "metadata": {
        "id": "ABoCQ3hzTXBC",
        "colab_type": "code",
        "colab": {
          "base_uri": "https://localhost:8080/",
          "height": 104
        },
        "outputId": "a7cb6385-8615-4044-c4ec-b1dad0bb8c9b"
      },
      "source": [
        "list(model.parameters())"
      ],
      "execution_count": 23,
      "outputs": [
        {
          "output_type": "execute_result",
          "data": {
            "text/plain": [
              "[Parameter containing:\n",
              " tensor([[0.1630, 0.1522, 0.0049, 0.0067, 0.0153, 0.1636, 0.4931]],\n",
              "        requires_grad=True),\n",
              " Parameter containing:\n",
              " tensor([-0.0207], requires_grad=True)]"
            ]
          },
          "metadata": {
            "tags": []
          },
          "execution_count": 23
        }
      ]
    },
    {
      "cell_type": "code",
      "metadata": {
        "id": "PO_vZH-4TXBE",
        "colab_type": "code",
        "colab": {
          "base_uri": "https://localhost:8080/",
          "height": 52
        },
        "outputId": "39e44d9f-ea4b-4dc8-8ca8-64aeba6c436a"
      },
      "source": [
        "actual, pred, loss_avg = validate(model, 'FB')"
      ],
      "execution_count": 24,
      "outputs": [
        {
          "output_type": "stream",
          "text": [
            "(2037, 1)\n",
            "Avg loss: 305.5759310722351\n"
          ],
          "name": "stdout"
        }
      ]
    },
    {
      "cell_type": "code",
      "metadata": {
        "id": "ggTDsqaLTXBG",
        "colab_type": "code",
        "colab": {
          "base_uri": "https://localhost:8080/",
          "height": 265
        },
        "outputId": "2ad4fad2-9bb5-4268-d8e5-a930995fce9c"
      },
      "source": [
        "plot(pred[-100:], actual[-100:])"
      ],
      "execution_count": 25,
      "outputs": [
        {
          "output_type": "display_data",
          "data": {
            "text/plain": [
              "<Figure size 432x288 with 1 Axes>"
            ],
            "image/png": "[encoded data removed]"
          },
          "metadata": {
            "tags": [],
            "needs_background": "light"
          }
        }
      ]
    },
    {
      "cell_type": "code",
      "metadata": {
        "id": "UrYuKN81TXBJ",
        "colab_type": "code",
        "colab": {
          "base_uri": "https://localhost:8080/",
          "height": 141
        },
        "outputId": "d69468ee-6a4e-4318-8bdc-793c41e0a087"
      },
      "source": [
        "# Baseline\n",
        "actual, pred, loss_avg = validate(MeanModel(), 'FB')"
      ],
      "execution_count": 26,
      "outputs": [
        {
          "output_type": "stream",
          "text": [
            "/home/z/.local/lib/python3.8/site-packages/torch/nn/modules/loss.py:445: UserWarning: Using a target size (torch.Size([128, 1])) that is different to the input size (torch.Size([128])). This will likely lead to incorrect results due to broadcasting. Please ensure they have the same size.\n",
            "  return F.mse_loss(input, target, reduction=self.reduction)\n"
          ],
          "name": "stderr"
        },
        {
          "output_type": "stream",
          "text": [
            "(2037,)\n",
            "Avg loss: 5583.202747344971\n"
          ],
          "name": "stdout"
        },
        {
          "output_type": "stream",
          "text": [
            "/home/z/.local/lib/python3.8/site-packages/torch/nn/modules/loss.py:445: UserWarning: Using a target size (torch.Size([117, 1])) that is different to the input size (torch.Size([117])). This will likely lead to incorrect results due to broadcasting. Please ensure they have the same size.\n",
            "  return F.mse_loss(input, target, reduction=self.reduction)\n"
          ],
          "name": "stderr"
        }
      ]
    },
    {
      "cell_type": "code",
      "metadata": {
        "id": "L_FowUFTTXBM",
        "colab_type": "code",
        "colab": {
          "base_uri": "https://localhost:8080/",
          "height": 35
        },
        "outputId": "32d4e5bf-4d87-410e-ca37-f893a7e9a803"
      },
      "source": [
        "MeanModel()(th.Tensor([[1, 2, 3], [2, 4, 6]]))"
      ],
      "execution_count": 27,
      "outputs": [
        {
          "output_type": "execute_result",
          "data": {
            "text/plain": [
              "tensor([2., 4.])"
            ]
          },
          "metadata": {
            "tags": []
          },
          "execution_count": 27
        }
      ]
    }
  ]
}