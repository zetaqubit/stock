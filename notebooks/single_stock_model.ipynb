{
 "cells": [
  {
   "cell_type": "code",
   "execution_count": 151,
   "metadata": {},
   "outputs": [],
   "source": [
    "import matplotlib.pyplot as plt\n",
    "from matplotlib.pyplot import figure\n",
    "\n",
    "%matplotlib inline\n",
    "\n",
    "import pandas as pd\n",
    "import torch as th\n",
    "import numpy as np"
   ]
  },
  {
   "cell_type": "code",
   "execution_count": 78,
   "metadata": {},
   "outputs": [],
   "source": [
    "batch_size = 128\n",
    "hist_win = 7\n",
    "pred_win = 1"
   ]
  },
  {
   "cell_type": "code",
   "execution_count": 5,
   "metadata": {},
   "outputs": [
    {
     "data": {
      "text/html": [
       "<div>\n",
       "<style scoped>\n",
       "    .dataframe tbody tr th:only-of-type {\n",
       "        vertical-align: middle;\n",
       "    }\n",
       "\n",
       "    .dataframe tbody tr th {\n",
       "        vertical-align: top;\n",
       "    }\n",
       "\n",
       "    .dataframe thead th {\n",
       "        text-align: right;\n",
       "    }\n",
       "</style>\n",
       "<table border=\"1\" class=\"dataframe\">\n",
       "  <thead>\n",
       "    <tr style=\"text-align: right;\">\n",
       "      <th></th>\n",
       "      <th>date</th>\n",
       "      <th>volume</th>\n",
       "      <th>open</th>\n",
       "      <th>close</th>\n",
       "      <th>high</th>\n",
       "      <th>low</th>\n",
       "      <th>adjclose</th>\n",
       "    </tr>\n",
       "  </thead>\n",
       "  <tbody>\n",
       "    <tr>\n",
       "      <th>0</th>\n",
       "      <td>2019-04-18</td>\n",
       "      <td>1331800</td>\n",
       "      <td>1239.180054</td>\n",
       "      <td>1236.369995</td>\n",
       "      <td>1242.000000</td>\n",
       "      <td>1234.609985</td>\n",
       "      <td>1236.369995</td>\n",
       "    </tr>\n",
       "    <tr>\n",
       "      <th>1</th>\n",
       "      <td>2019-04-17</td>\n",
       "      <td>1221900</td>\n",
       "      <td>1233.000000</td>\n",
       "      <td>1236.339966</td>\n",
       "      <td>1240.560059</td>\n",
       "      <td>1227.819946</td>\n",
       "      <td>1236.339966</td>\n",
       "    </tr>\n",
       "    <tr>\n",
       "      <th>2</th>\n",
       "      <td>2019-04-16</td>\n",
       "      <td>856300</td>\n",
       "      <td>1225.000000</td>\n",
       "      <td>1227.130005</td>\n",
       "      <td>1230.819946</td>\n",
       "      <td>1220.119995</td>\n",
       "      <td>1227.130005</td>\n",
       "    </tr>\n",
       "    <tr>\n",
       "      <th>3</th>\n",
       "      <td>2019-04-15</td>\n",
       "      <td>1187400</td>\n",
       "      <td>1218.000000</td>\n",
       "      <td>1221.099976</td>\n",
       "      <td>1224.199951</td>\n",
       "      <td>1209.109985</td>\n",
       "      <td>1221.099976</td>\n",
       "    </tr>\n",
       "    <tr>\n",
       "      <th>4</th>\n",
       "      <td>2019-04-12</td>\n",
       "      <td>933400</td>\n",
       "      <td>1210.000000</td>\n",
       "      <td>1217.869995</td>\n",
       "      <td>1218.349976</td>\n",
       "      <td>1208.109985</td>\n",
       "      <td>1217.869995</td>\n",
       "    </tr>\n",
       "  </tbody>\n",
       "</table>\n",
       "</div>"
      ],
      "text/plain": [
       "         date   volume         open        close         high          low  \\\n",
       "0  2019-04-18  1331800  1239.180054  1236.369995  1242.000000  1234.609985   \n",
       "1  2019-04-17  1221900  1233.000000  1236.339966  1240.560059  1227.819946   \n",
       "2  2019-04-16   856300  1225.000000  1227.130005  1230.819946  1220.119995   \n",
       "3  2019-04-15  1187400  1218.000000  1221.099976  1224.199951  1209.109985   \n",
       "4  2019-04-12   933400  1210.000000  1217.869995  1218.349976  1208.109985   \n",
       "\n",
       "      adjclose  \n",
       "0  1236.369995  \n",
       "1  1236.339966  \n",
       "2  1227.130005  \n",
       "3  1221.099976  \n",
       "4  1217.869995  "
      ]
     },
     "execution_count": 5,
     "metadata": {},
     "output_type": "execute_result"
    }
   ],
   "source": [
    "df = pd.read_csv('~/data/stock/full_history/GOOG.csv')\n",
    "df.head()"
   ]
  },
  {
   "cell_type": "code",
   "execution_count": 133,
   "metadata": {},
   "outputs": [],
   "source": [
    "from torch.utils.data.dataset import Dataset\n",
    "from torch.utils.data import DataLoader\n",
    "\n",
    "# Caveats\n",
    "#   - looks at only 1 column\n",
    "class StockSeqDataset(Dataset):\n",
    "    def __init__(self, df, column='adjclose', hist_win=hist_win, pred_win=pred_win):\n",
    "        self.df = df\n",
    "        self.col = column\n",
    "        self.hist_win = hist_win\n",
    "        self.pred_win = pred_win\n",
    "    \n",
    "    def __getitem__(self, index):\n",
    "        assert 0 <= index < len(self)\n",
    "        x_end = index + self.hist_win\n",
    "        x = df.iloc[index:x_end][self.col]\n",
    "        y = df.iloc[x_end:x_end+self.pred_win][self.col]\n",
    "        return (th.from_numpy(np.array(x, dtype=np.float32)),\n",
    "                th.from_numpy(np.array(y, dtype=np.float32)))\n",
    "    \n",
    "    def __len__(self):\n",
    "        return len(self.df) - self.hist_win - self.pred_win + 1\n",
    "\n",
    "ds = StockSeqDataset(df)\n",
    "\n",
    "dl = DataLoader(dataset=ds, batch_size=batch_size, shuffle=True)"
   ]
  },
  {
   "cell_type": "code",
   "execution_count": 80,
   "metadata": {},
   "outputs": [
    {
     "data": {
      "text/plain": [
       "(tensor([50.6754, 52.7320, 53.6063, 52.6575, 52.0962, 54.3465, 53.8050]),\n",
       " tensor([49.8458]))"
      ]
     },
     "execution_count": 80,
     "metadata": {},
     "output_type": "execute_result"
    }
   ],
   "source": [
    "ds[len(ds) - 1]"
   ]
  },
  {
   "cell_type": "code",
   "execution_count": 83,
   "metadata": {},
   "outputs": [
    {
     "name": "stdout",
     "output_type": "stream",
     "text": [
      "torch.Size([128, 7])\n",
      "torch.Size([128, 1])\n"
     ]
    }
   ],
   "source": [
    "for x, y in dl:\n",
    "    print(x.shape)\n",
    "    print(y.shape)\n",
    "    break"
   ]
  },
  {
   "cell_type": "code",
   "execution_count": 138,
   "metadata": {},
   "outputs": [
    {
     "name": "stdout",
     "output_type": "stream",
     "text": [
      "0.00405 983675.4536637932\n",
      "0.00365 223321.65665409484\n",
      "0.00328 6007.699459733634\n",
      "0.00295 100.44157422822097\n",
      "0.00266 96.92001303311052\n",
      "0.00239 94.98872283409382\n",
      "0.00215 98.18593584257981\n",
      "0.00194 95.7564723573882\n",
      "0.00174 93.0757442342824\n",
      "0.00157 91.08772172599004\n",
      "0.00141 94.40585616539265\n",
      "0.00127 90.04364474066372\n",
      "0.00114 89.36537696575296\n",
      "0.00103 90.24960077219995\n",
      "0.00093 87.87637631646518\n",
      "0.00083 88.01971527625774\n",
      "0.00075 87.25128699993265\n",
      "0.00068 85.70836665712554\n",
      "0.00061 86.10532984240302\n",
      "0.00055 85.36666028252964\n"
     ]
    }
   ],
   "source": [
    "model = th.nn.Sequential(\n",
    "    th.nn.Linear(hist_win, pred_win),\n",
    "    #th.nn.ReLU(),\n",
    "    #th.nn.Linear(100, pred_win),\n",
    ")\n",
    "\n",
    "loss_fn = th.nn.MSELoss()\n",
    "\n",
    "learning_rate = 0.005\n",
    "optimizer = th.optim.Adam(model.parameters(), lr=learning_rate, betas=(0.5, 0.5))\n",
    "lr_schedule = th.optim.lr_scheduler.ExponentialLR(optimizer, 0.9)\n",
    "\n",
    "for epoch in range(20):\n",
    "    loss_avg = 0\n",
    "    for x, y in dl:\n",
    "        optimizer.zero_grad()\n",
    "        y_pred = model(x)\n",
    "        loss = loss_fn(y_pred, y)\n",
    "        loss.backward()\n",
    "        optimizer.step()\n",
    "        loss_avg += loss.item()\n",
    "        #print(loss.item())\n",
    "    lr_schedule.step()\n",
    "    print(f'{lr_schedule.get_lr()[0]:.5f} {loss_avg / len(dl)}')"
   ]
  },
  {
   "cell_type": "code",
   "execution_count": 105,
   "metadata": {},
   "outputs": [
    {
     "data": {
      "text/plain": [
       "[0.0005]"
      ]
     },
     "execution_count": 105,
     "metadata": {},
     "output_type": "execute_result"
    }
   ],
   "source": [
    "lr_schedule.get_lr()"
   ]
  },
  {
   "cell_type": "code",
   "execution_count": 139,
   "metadata": {},
   "outputs": [
    {
     "data": {
      "text/plain": [
       "tensor([[ 312.3435,  185.6575,  151.8325, 1226.1500,   92.3841,  625.8000,\n",
       "          939.7800,  322.1100,  630.3800,  285.3888,  288.5880,  214.1273,\n",
       "          235.0860,  212.3389,   63.0201,  209.5123,  538.6458,  313.0042,\n",
       "          531.4733,  438.5427,  331.6132,  336.4964,  239.9444,  606.1426,\n",
       "          829.0800,  298.1310,  292.1945,  587.3703,  272.4778,  189.2690,\n",
       "          227.2470,  302.2094,  523.4000,  311.6828,  331.9460,  293.3371,\n",
       "          175.3893,  151.0675,  298.4588,  171.8870,  229.5271,  153.9487,\n",
       "          164.9273,  229.3433,  319.3330,  306.6009,  387.8275,  759.1100,\n",
       "          738.6300,  146.7406,   93.0945,  606.2500,  205.4736,  216.8645,\n",
       "          433.1726,  176.6858,  256.3328,  150.4962,  256.4570,  824.7300,\n",
       "          172.3341,  534.0013,  307.0380,  306.2879,  304.4151,   54.3465,\n",
       "          565.7504,  272.3635,  222.5525,  380.3959,  508.2056,   92.0463,\n",
       "          522.3876,  261.1117,   87.9877,  301.3003,  278.1906,  139.2245,\n",
       "          112.7566,  976.5700,  231.1218,  536.7463,  250.7541,  536.9949,\n",
       "          303.5159,  140.3720,  915.0000,  163.4271,  213.1139,  189.9645,\n",
       "          581.5722,  238.9757,  204.5744,  817.5800,  403.0386,   97.1779,\n",
       "          641.4700,  716.9200,  196.7056,  147.1132,  441.4637]])"
      ]
     },
     "execution_count": 139,
     "metadata": {},
     "output_type": "execute_result"
    }
   ],
   "source": [
    "y.t()"
   ]
  },
  {
   "cell_type": "code",
   "execution_count": 140,
   "metadata": {},
   "outputs": [
    {
     "data": {
      "text/plain": [
       "tensor([[ 318.0013,  186.2398,  152.6001, 1223.8197,   95.1647,  608.7130,\n",
       "          953.8085,  317.4884,  610.6134,  277.3134,  282.9128,  190.2819,\n",
       "          232.6419,  212.6899,   65.4623,  213.4482,  534.9742,  302.2319,\n",
       "          540.3252,  433.3974,  334.1739,  343.6714,  233.5941,  604.0957,\n",
       "          829.4048,  293.3515,  294.0325,  578.5190,  282.3569,  196.0621,\n",
       "          230.6432,  301.8427,  524.9464,  309.8607,  332.1982,  294.4769,\n",
       "          181.4246,  148.0206,  299.5187,  168.1765,  229.0002,  153.5936,\n",
       "          187.2000,  226.1180,  319.7235,  297.4960,  389.5210,  774.4210,\n",
       "          743.1615,  149.3577,   95.9916,  606.1060,  217.2412,  221.6505,\n",
       "          435.7704,  174.5370,  256.9009,  150.7353,  262.1234,  824.2232,\n",
       "          178.1349,  533.8087,  308.5234,  298.7771,  303.4825,   51.9180,\n",
       "          565.0042,  270.0587,  221.7362,  382.8923,  516.7556,   93.9759,\n",
       "          522.5367,  261.7273,   94.6846,  300.9789,  275.8995,  143.9780,\n",
       "          112.9857,  974.4424,  224.3319,  539.3228,  250.8207,  527.2306,\n",
       "          305.9459,  140.4440,  921.2563,  171.9272,  210.9962,  191.0622,\n",
       "          584.4055,  247.3434,  209.9024,  816.2377,  402.7955,   96.9383,\n",
       "          644.1814,  715.0363,  196.7266,  154.3785,  443.8481]],\n",
       "       grad_fn=<TBackward>)"
      ]
     },
     "execution_count": 140,
     "metadata": {},
     "output_type": "execute_result"
    }
   ],
   "source": [
    "model(x).t()"
   ]
  },
  {
   "cell_type": "code",
   "execution_count": 165,
   "metadata": {},
   "outputs": [],
   "source": [
    "def validate(model, ticker):\n",
    "    df = pd.read_csv(f'~/data/stock/full_history/{ticker}.csv')\n",
    "    ds = StockSeqDataset(df)\n",
    "    dl = DataLoader(dataset=ds, batch_size=batch_size, shuffle=False)\n",
    "    loss_avg = 0\n",
    "    actual = []\n",
    "    predicted = []\n",
    "    for x, y in dl:\n",
    "        actual.append(y.detach().cpu().numpy())\n",
    "        optimizer.zero_grad()\n",
    "        y_pred = model(x)\n",
    "        predicted.append(y_pred.detach().cpu().numpy())\n",
    "        loss = loss_fn(y_pred, y)\n",
    "        loss_avg += loss.item()\n",
    "    actual = np.concatenate(actual)\n",
    "    predicted = np.concatenate(predicted)\n",
    "    print(predicted.shape)\n",
    "    loss_avg /= len(dl)\n",
    "    print(f'Avg loss: {loss_avg}')\n",
    "    return actual, predicted, loss_avg\n",
    "\n",
    "class MeanModel(th.nn.Module):\n",
    "    def forward(self, x):\n",
    "        return x.mean(dim=-1)\n",
    "\n",
    "def plot(predicted, actual):\n",
    "    plt.figure()\n",
    "    plt.plot(np.squeeze(predicted)[::-1])\n",
    "    plt.plot(np.squeeze(actual)[::-1])"
   ]
  },
  {
   "cell_type": "code",
   "execution_count": 169,
   "metadata": {},
   "outputs": [
    {
     "data": {
      "text/plain": [
       "[Parameter containing:\n",
       " tensor([[-0.0118,  0.1106,  0.0744,  0.0239, -0.0423,  0.2122,  0.6305]],\n",
       "        requires_grad=True), Parameter containing:\n",
       " tensor([0.1058], requires_grad=True)]"
      ]
     },
     "execution_count": 169,
     "metadata": {},
     "output_type": "execute_result"
    }
   ],
   "source": [
    "list(model.parameters())"
   ]
  },
  {
   "cell_type": "code",
   "execution_count": 161,
   "metadata": {},
   "outputs": [
    {
     "name": "stdout",
     "output_type": "stream",
     "text": [
      "(1733, 1)\n",
      "Avg loss: 143.97266456059046\n"
     ]
    }
   ],
   "source": [
    "actual, pred, loss_avg = validate(model, 'FB')"
   ]
  },
  {
   "cell_type": "code",
   "execution_count": 163,
   "metadata": {},
   "outputs": [
    {
     "data": {
      "image/png": "[encoded data removed]",
      "text/plain": [
       "<matplotlib.figure.Figure at 0x126b3f278>"
      ]
     },
     "metadata": {},
     "output_type": "display_data"
    }
   ],
   "source": [
    "plot(pred[-100:], actual[-100:])"
   ]
  },
  {
   "cell_type": "code",
   "execution_count": 166,
   "metadata": {},
   "outputs": [
    {
     "name": "stderr",
     "output_type": "stream",
     "text": [
      "/usr/local/lib/python3.6/site-packages/torch/nn/modules/loss.py:443: UserWarning: Using a target size (torch.Size([128, 1])) that is different to the input size (torch.Size([128])). This will likely lead to incorrect results due to broadcasting. Please ensure they have the same size.\n",
      "  return F.mse_loss(input, target, reduction=self.reduction)\n"
     ]
    },
    {
     "name": "stdout",
     "output_type": "stream",
     "text": [
      "(1733,)\n",
      "Avg loss: 3345.666530064174\n"
     ]
    },
    {
     "name": "stderr",
     "output_type": "stream",
     "text": [
      "/usr/local/lib/python3.6/site-packages/torch/nn/modules/loss.py:443: UserWarning: Using a target size (torch.Size([69, 1])) that is different to the input size (torch.Size([69])). This will likely lead to incorrect results due to broadcasting. Please ensure they have the same size.\n",
      "  return F.mse_loss(input, target, reduction=self.reduction)\n"
     ]
    }
   ],
   "source": [
    "# Baseline\n",
    "actual, pred, loss_avg = validate(MeanModel(), 'FB')"
   ]
  },
  {
   "cell_type": "code",
   "execution_count": 168,
   "metadata": {},
   "outputs": [
    {
     "data": {
      "text/plain": [
       "tensor([2., 4.])"
      ]
     },
     "execution_count": 168,
     "metadata": {},
     "output_type": "execute_result"
    }
   ],
   "source": [
    "MeanModel()(th.Tensor([[1, 2, 3], [2, 4, 6]]))"
   ]
  }
 ],
 "metadata": {
  "kernelspec": {
   "display_name": "Python 3",
   "language": "python",
   "name": "python3"
  },
  "language_info": {
   "codemirror_mode": {
    "name": "ipython",
    "version": 3
   },
   "file_extension": ".py",
   "mimetype": "text/x-python",
   "name": "python",
   "nbconvert_exporter": "python",
   "pygments_lexer": "ipython3",
   "version": "3.6.3"
  }
 },
 "nbformat": 4,
 "nbformat_minor": 1
}
