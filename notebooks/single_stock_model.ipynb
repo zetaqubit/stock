{
  "nbformat": 4,
  "nbformat_minor": 0,
  "metadata": {
    "kernelspec": {
      "display_name": "Python 3",
      "language": "python",
      "name": "python3"
    },
    "language_info": {
      "codemirror_mode": {
        "name": "ipython",
        "version": 3
      },
      "file_extension": ".py",
      "mimetype": "text/x-python",
      "name": "python",
      "nbconvert_exporter": "python",
      "pygments_lexer": "ipython3",
      "version": "3.6.3"
    },
    "colab": {
      "name": "single_stock_model.ipynb",
      "provenance": []
    }
  },
  "cells": [
    {
      "cell_type": "code",
      "metadata": {
        "id": "gjPhwU4sTXAk",
        "colab_type": "code",
        "colab": {}
      },
      "source": [
        "import matplotlib.pyplot as plt\n",
        "\n",
        "%matplotlib inline\n",
        "\n",
        "import pandas as pd\n",
        "import torch as th\n",
        "import numpy as np"
      ],
      "execution_count": 8,
      "outputs": []
    },
    {
      "cell_type": "markdown",
      "metadata": {
        "id": "QI-drLqv3_Dy",
        "colab_type": "text"
      },
      "source": [
        "# Dataset"
      ]
    },
    {
      "cell_type": "code",
      "metadata": {
        "id": "Ov_fnPOBTXAp",
        "colab_type": "code",
        "colab": {}
      },
      "source": [
        "batch_size = 128\n",
        "hist_win = 7\n",
        "pred_win = 1"
      ],
      "execution_count": 9,
      "outputs": []
    },
    {
      "cell_type": "code",
      "metadata": {
        "id": "LZ_5pbU3TXAr",
        "colab_type": "code",
        "colab": {
          "base_uri": "https://localhost:8080/",
          "height": 348
        },
        "outputId": "b11c9584-a52d-4c51-f7ed-e83f768f818c"
      },
      "source": [
        "def load_df(ticker):\n",
        "  df = pd.read_csv(f'~/data/stock/kaggle/full_history/{ticker}.csv')\n",
        "  # reverse so oldest is first\n",
        "  df = df.iloc[::-1].reset_index(drop=True)\n",
        "  return df\n",
        "\n",
        "df = load_df('GOOG')\n",
        "df.head(10)"
      ],
      "execution_count": 61,
      "outputs": [
        {
          "output_type": "execute_result",
          "data": {
            "text/plain": [
              "         date    volume       open       high        low      close   adjclose\n",
              "0  2004-08-19  44871300  49.813286  51.835709  47.800831  49.982655  49.982655\n",
              "1  2004-08-20  22942800  50.316402  54.336334  50.062355  53.952770  53.952770\n",
              "2  2004-08-23  18342800  55.168217  56.528118  54.321388  54.495735  54.495735\n",
              "3  2004-08-24  15319700  55.412300  55.591629  51.591621  52.239193  52.239193\n",
              "4  2004-08-25   9232100  52.284027  53.798351  51.746044  52.802086  52.802086\n",
              "5  2004-08-26   7128600  52.279045  53.773445  52.134586  53.753517  53.753517\n",
              "6  2004-08-27   6241200  53.848164  54.107193  52.647663  52.876804  52.876804\n",
              "7  2004-08-30   5221400  52.443428  52.548038  50.814533  50.814533  50.814533\n",
              "8  2004-08-31   4941200  50.958992  51.661362  50.889256  50.993862  50.993862\n",
              "9  2004-09-01   9181600  51.158245  51.292744  49.648903  49.937820  49.937820"
            ],
            "text/html": [
              "<div>\n",
              "<style scoped>\n",
              "    .dataframe tbody tr th:only-of-type {\n",
              "        vertical-align: middle;\n",
              "    }\n",
              "\n",
              "    .dataframe tbody tr th {\n",
              "        vertical-align: top;\n",
              "    }\n",
              "\n",
              "    .dataframe thead th {\n",
              "        text-align: right;\n",
              "    }\n",
              "</style>\n",
              "<table border=\"1\" class=\"dataframe\">\n",
              "  <thead>\n",
              "    <tr style=\"text-align: right;\">\n",
              "      <th></th>\n",
              "      <th>date</th>\n",
              "      <th>volume</th>\n",
              "      <th>open</th>\n",
              "      <th>high</th>\n",
              "      <th>low</th>\n",
              "      <th>close</th>\n",
              "      <th>adjclose</th>\n",
              "    </tr>\n",
              "  </thead>\n",
              "  <tbody>\n",
              "    <tr>\n",
              "      <th>0</th>\n",
              "      <td>2004-08-19</td>\n",
              "      <td>44871300</td>\n",
              "      <td>49.813286</td>\n",
              "      <td>51.835709</td>\n",
              "      <td>47.800831</td>\n",
              "      <td>49.982655</td>\n",
              "      <td>49.982655</td>\n",
              "    </tr>\n",
              "    <tr>\n",
              "      <th>1</th>\n",
              "      <td>2004-08-20</td>\n",
              "      <td>22942800</td>\n",
              "      <td>50.316402</td>\n",
              "      <td>54.336334</td>\n",
              "      <td>50.062355</td>\n",
              "      <td>53.952770</td>\n",
              "      <td>53.952770</td>\n",
              "    </tr>\n",
              "    <tr>\n",
              "      <th>2</th>\n",
              "      <td>2004-08-23</td>\n",
              "      <td>18342800</td>\n",
              "      <td>55.168217</td>\n",
              "      <td>56.528118</td>\n",
              "      <td>54.321388</td>\n",
              "      <td>54.495735</td>\n",
              "      <td>54.495735</td>\n",
              "    </tr>\n",
              "    <tr>\n",
              "      <th>3</th>\n",
              "      <td>2004-08-24</td>\n",
              "      <td>15319700</td>\n",
              "      <td>55.412300</td>\n",
              "      <td>55.591629</td>\n",
              "      <td>51.591621</td>\n",
              "      <td>52.239193</td>\n",
              "      <td>52.239193</td>\n",
              "    </tr>\n",
              "    <tr>\n",
              "      <th>4</th>\n",
              "      <td>2004-08-25</td>\n",
              "      <td>9232100</td>\n",
              "      <td>52.284027</td>\n",
              "      <td>53.798351</td>\n",
              "      <td>51.746044</td>\n",
              "      <td>52.802086</td>\n",
              "      <td>52.802086</td>\n",
              "    </tr>\n",
              "    <tr>\n",
              "      <th>5</th>\n",
              "      <td>2004-08-26</td>\n",
              "      <td>7128600</td>\n",
              "      <td>52.279045</td>\n",
              "      <td>53.773445</td>\n",
              "      <td>52.134586</td>\n",
              "      <td>53.753517</td>\n",
              "      <td>53.753517</td>\n",
              "    </tr>\n",
              "    <tr>\n",
              "      <th>6</th>\n",
              "      <td>2004-08-27</td>\n",
              "      <td>6241200</td>\n",
              "      <td>53.848164</td>\n",
              "      <td>54.107193</td>\n",
              "      <td>52.647663</td>\n",
              "      <td>52.876804</td>\n",
              "      <td>52.876804</td>\n",
              "    </tr>\n",
              "    <tr>\n",
              "      <th>7</th>\n",
              "      <td>2004-08-30</td>\n",
              "      <td>5221400</td>\n",
              "      <td>52.443428</td>\n",
              "      <td>52.548038</td>\n",
              "      <td>50.814533</td>\n",
              "      <td>50.814533</td>\n",
              "      <td>50.814533</td>\n",
              "    </tr>\n",
              "    <tr>\n",
              "      <th>8</th>\n",
              "      <td>2004-08-31</td>\n",
              "      <td>4941200</td>\n",
              "      <td>50.958992</td>\n",
              "      <td>51.661362</td>\n",
              "      <td>50.889256</td>\n",
              "      <td>50.993862</td>\n",
              "      <td>50.993862</td>\n",
              "    </tr>\n",
              "    <tr>\n",
              "      <th>9</th>\n",
              "      <td>2004-09-01</td>\n",
              "      <td>9181600</td>\n",
              "      <td>51.158245</td>\n",
              "      <td>51.292744</td>\n",
              "      <td>49.648903</td>\n",
              "      <td>49.937820</td>\n",
              "      <td>49.937820</td>\n",
              "    </tr>\n",
              "  </tbody>\n",
              "</table>\n",
              "</div>"
            ]
          },
          "metadata": {
            "tags": []
          },
          "execution_count": 61
        }
      ]
    },
    {
      "cell_type": "code",
      "metadata": {
        "id": "It30Ts8cTXAu",
        "colab_type": "code",
        "colab": {}
      },
      "source": [
        "from torch.utils.data.dataset import Dataset\n",
        "from torch.utils.data import DataLoader\n",
        "\n",
        "# Caveats\n",
        "#   - looks at only 1 column\n",
        "class StockSeqDataset(Dataset):\n",
        "    def __init__(self, df, column='adjclose', hist_win=hist_win, pred_win=pred_win):\n",
        "        self.df = df\n",
        "        self.col = column\n",
        "        self.hist_win = hist_win\n",
        "        self.pred_win = pred_win\n",
        "    \n",
        "    def __getitem__(self, index):\n",
        "        assert 0 <= index < len(self)\n",
        "        x_end = index + self.hist_win\n",
        "        x = df.iloc[index:x_end][self.col]\n",
        "        y = df.iloc[x_end:x_end+self.pred_win][self.col]\n",
        "        return (th.from_numpy(np.array(x, dtype=np.float32)),\n",
        "                th.from_numpy(np.array(y, dtype=np.float32)))\n",
        "    \n",
        "    def __len__(self):\n",
        "        return len(self.df) - self.hist_win - self.pred_win + 1\n",
        "\n",
        "ds = StockSeqDataset(df)\n",
        "\n",
        "dl = DataLoader(dataset=ds, batch_size=batch_size, shuffle=True)"
      ],
      "execution_count": 62,
      "outputs": []
    },
    {
      "cell_type": "code",
      "metadata": {
        "id": "1F7NjiF0TXAw",
        "colab_type": "code",
        "colab": {
          "base_uri": "https://localhost:8080/",
          "height": 52
        },
        "outputId": "da612cd5-5601-4b59-ee71-0b8ed864f1cf"
      },
      "source": [
        "ds[0]"
      ],
      "execution_count": 63,
      "outputs": [
        {
          "output_type": "execute_result",
          "data": {
            "text/plain": [
              "(tensor([49.9827, 53.9528, 54.4957, 52.2392, 52.8021, 53.7535, 52.8768]),\n",
              " tensor([50.8145]))"
            ]
          },
          "metadata": {
            "tags": []
          },
          "execution_count": 63
        }
      ]
    },
    {
      "cell_type": "code",
      "metadata": {
        "id": "bqti8wGzTXAz",
        "colab_type": "code",
        "colab": {
          "base_uri": "https://localhost:8080/",
          "height": 52
        },
        "outputId": "abd61827-3356-4387-eefc-079c6e951e73"
      },
      "source": [
        "for x, y in dl:\n",
        "    print(x.shape)\n",
        "    print(y.shape)\n",
        "    break"
      ],
      "execution_count": 64,
      "outputs": [
        {
          "output_type": "stream",
          "text": [
            "torch.Size([128, 7])\n",
            "torch.Size([128, 1])\n"
          ],
          "name": "stdout"
        }
      ]
    },
    {
      "cell_type": "markdown",
      "metadata": {
        "id": "aOpyV9RT4Bxv",
        "colab_type": "text"
      },
      "source": [
        "# Model"
      ]
    },
    {
      "cell_type": "code",
      "metadata": {
        "id": "N63x007vTXA1",
        "colab_type": "code",
        "colab": {
          "base_uri": "https://localhost:8080/",
          "height": 417
        },
        "outputId": "1a093f1d-4d6b-4aed-c69a-c7ed36e1305d"
      },
      "source": [
        "model = th.nn.Sequential(\n",
        "    th.nn.Linear(hist_win, pred_win),\n",
        "    #th.nn.ReLU(),\n",
        "    #th.nn.Linear(100, pred_win),\n",
        ")\n",
        "\n",
        "loss_fn = th.nn.MSELoss()\n",
        "\n",
        "learning_rate = 0.005\n",
        "optimizer = th.optim.Adam(model.parameters(), lr=learning_rate, betas=(0.5, 0.5))\n",
        "lr_schedule = th.optim.lr_scheduler.ExponentialLR(optimizer, 0.9)\n",
        "\n",
        "for epoch in range(20):\n",
        "    loss_avg = 0\n",
        "    for x, y in dl:\n",
        "        optimizer.zero_grad()\n",
        "        y_pred = model(x)\n",
        "        loss = loss_fn(y_pred, y)\n",
        "        loss.backward()\n",
        "        optimizer.step()\n",
        "        loss_avg += loss.item()\n",
        "        #print(loss.item())\n",
        "    lr_schedule.step()\n",
        "    print(f'{lr_schedule.get_lr()[0]:.5f} {loss_avg / len(dl)}')"
      ],
      "execution_count": 65,
      "outputs": [
        {
          "output_type": "stream",
          "text": [
            "/home/z/.local/lib/python3.8/site-packages/torch/optim/lr_scheduler.py:425: UserWarning: To get the last learning rate computed by the scheduler, please use `get_last_lr()`.\n",
            "  warnings.warn(\"To get the last learning rate computed by the scheduler, \"\n"
          ],
          "name": "stderr"
        },
        {
          "output_type": "stream",
          "text": [
            "0.00405 146583.0071105957\n",
            "0.00365 441.78283882141113\n",
            "0.00328 411.12889766693115\n",
            "0.00295 416.3936309814453\n",
            "0.00266 390.20105743408203\n",
            "0.00239 379.54114818573\n",
            "0.00215 386.71445083618164\n",
            "0.00194 378.4715871810913\n",
            "0.00174 368.63591480255127\n",
            "0.00157 364.02690076828003\n",
            "0.00141 381.71972703933716\n",
            "0.00127 363.8498582839966\n",
            "0.00114 354.5209937095642\n",
            "0.00103 349.202271938324\n",
            "0.00093 349.38642263412476\n",
            "0.00083 341.30994510650635\n",
            "0.00075 334.5336947441101\n",
            "0.00068 335.6001901626587\n",
            "0.00061 332.2267804145813\n",
            "0.00055 329.59850668907166\n"
          ],
          "name": "stdout"
        }
      ]
    },
    {
      "cell_type": "code",
      "metadata": {
        "id": "jhIPJsQITXA5",
        "colab_type": "code",
        "colab": {
          "base_uri": "https://localhost:8080/",
          "height": 35
        },
        "outputId": "53cf1136-495c-4693-b973-709da1190876"
      },
      "source": [
        "lr_schedule.get_lr()"
      ],
      "execution_count": 66,
      "outputs": [
        {
          "output_type": "execute_result",
          "data": {
            "text/plain": [
              "[0.0005470949456575623]"
            ]
          },
          "metadata": {
            "tags": []
          },
          "execution_count": 66
        }
      ]
    },
    {
      "cell_type": "code",
      "metadata": {
        "id": "vj1dKyQbTXA7",
        "colab_type": "code",
        "colab": {
          "base_uri": "https://localhost:8080/",
          "height": 86
        },
        "outputId": "fdc9c4b9-a34b-49bd-adfc-48029a3cfb11"
      },
      "source": [
        "y.t()"
      ],
      "execution_count": 67,
      "outputs": [
        {
          "output_type": "execute_result",
          "data": {
            "text/plain": [
              "tensor([[ 807.6700, 1431.9700,   89.6838,  566.9549,  193.0265,  227.6567,\n",
              "          261.5696,  290.4115,  438.2623, 1152.8400,  139.2680,  245.5795,\n",
              "          289.3305,   93.6440,  541.6529,  338.0479, 1137.5100,  539.7900,\n",
              "          248.9270,  599.0994,  556.5739]])"
            ]
          },
          "metadata": {
            "tags": []
          },
          "execution_count": 67
        }
      ]
    },
    {
      "cell_type": "code",
      "metadata": {
        "id": "uDU4aZIRTXA-",
        "colab_type": "code",
        "colab": {
          "base_uri": "https://localhost:8080/",
          "height": 86
        },
        "outputId": "134ebe3d-ccf9-431c-8973-166f57ff76a2"
      },
      "source": [
        "model(x).t()"
      ],
      "execution_count": 68,
      "outputs": [
        {
          "output_type": "execute_result",
          "data": {
            "text/plain": [
              "tensor([[ 798.3361, 1450.1566,   90.4401,  571.4382,  200.5381,  239.7377,\n",
              "          273.8939,  289.6543,  433.2547, 1126.9230,  142.5654,  249.4628,\n",
              "          286.1869,   96.9705,  561.4970,  338.4532, 1122.1849,  540.5750,\n",
              "          241.7103,  607.7022,  556.7209]], grad_fn=<TBackward>)"
            ]
          },
          "metadata": {
            "tags": []
          },
          "execution_count": 68
        }
      ]
    },
    {
      "cell_type": "markdown",
      "metadata": {
        "id": "iB_w0lVD4QEu",
        "colab_type": "text"
      },
      "source": [
        "# Validation"
      ]
    },
    {
      "cell_type": "code",
      "metadata": {
        "id": "gdf3PstYTXBA",
        "colab_type": "code",
        "colab": {}
      },
      "source": [
        "def validate(model, ticker):\n",
        "    df = load_df(ticker)\n",
        "    ds = StockSeqDataset(df)\n",
        "    dl = DataLoader(dataset=ds, batch_size=batch_size, shuffle=False)\n",
        "    loss_avg = 0\n",
        "    actual = []\n",
        "    predicted = []\n",
        "    for x, y in dl:\n",
        "        actual.append(y.detach().cpu().numpy())\n",
        "        optimizer.zero_grad()\n",
        "        y_pred = model(x)\n",
        "        predicted.append(y_pred.detach().cpu().numpy())\n",
        "        loss = loss_fn(y_pred, y)\n",
        "        loss_avg += loss.item()\n",
        "    actual = np.concatenate(actual)\n",
        "    predicted = np.concatenate(predicted)\n",
        "    loss_avg /= len(dl)\n",
        "    return actual, predicted, loss_avg\n",
        "\n",
        "class MeanModel(th.nn.Module):\n",
        "    def forward(self, x):\n",
        "        return x.mean(dim=-1).unsqueeze(axis=1)\n",
        "\n",
        "def plot(actual, predicted):\n",
        "    plt.figure(figsize=(10, 8))\n",
        "    plt.plot(np.squeeze(actual)[::-1])\n",
        "    plt.plot(np.squeeze(predicted)[::-1])\n",
        "    plt.legend(('actual', 'predicted'))"
      ],
      "execution_count": 115,
      "outputs": []
    },
    {
      "cell_type": "code",
      "metadata": {
        "id": "ABoCQ3hzTXBC",
        "colab_type": "code",
        "colab": {
          "base_uri": "https://localhost:8080/",
          "height": 104
        },
        "outputId": "ca164e50-f934-46e2-9c92-3885509e289f"
      },
      "source": [
        "list(model.parameters())"
      ],
      "execution_count": 70,
      "outputs": [
        {
          "output_type": "execute_result",
          "data": {
            "text/plain": [
              "[Parameter containing:\n",
              " tensor([[ 0.0596,  0.0223,  0.3569,  0.2782, -0.1029,  0.4749, -0.0865]],\n",
              "        requires_grad=True),\n",
              " Parameter containing:\n",
              " tensor([0.4319], requires_grad=True)]"
            ]
          },
          "metadata": {
            "tags": []
          },
          "execution_count": 70
        }
      ]
    },
    {
      "cell_type": "code",
      "metadata": {
        "id": "PO_vZH-4TXBE",
        "colab_type": "code",
        "colab": {
          "base_uri": "https://localhost:8080/",
          "height": 52
        },
        "outputId": "3116cad0-e2be-4b2d-de81-023baea24ead"
      },
      "source": [
        "actual, pred, loss_avg = validate(model, 'FB')"
      ],
      "execution_count": 71,
      "outputs": [
        {
          "output_type": "stream",
          "text": [
            "(2037, 1)\n",
            "Avg loss: 73.2558925151825\n"
          ],
          "name": "stdout"
        }
      ]
    },
    {
      "cell_type": "code",
      "metadata": {
        "id": "ggTDsqaLTXBG",
        "colab_type": "code",
        "colab": {
          "base_uri": "https://localhost:8080/",
          "height": 483
        },
        "outputId": "6eddf681-2403-4f3f-fa65-3b5313427716"
      },
      "source": [
        "plot(actual[-100:], pred[-100:])"
      ],
      "execution_count": 72,
      "outputs": [
        {
          "output_type": "display_data",
          "data": {
            "text/plain": [
              "<Figure size 720x576 with 1 Axes>"
            ],
            "image/png": "[encoded data removed]"
          },
          "metadata": {
            "tags": [],
            "needs_background": "light"
          }
        }
      ]
    },
    {
      "cell_type": "code",
      "metadata": {
        "id": "UrYuKN81TXBJ",
        "colab_type": "code",
        "colab": {
          "base_uri": "https://localhost:8080/",
          "height": 52
        },
        "outputId": "a3bc1716-68f9-4cdd-8d87-aea160c6b112"
      },
      "source": [
        "# Baseline\n",
        "actual, pred, loss_avg = validate(MeanModel(), 'FB')"
      ],
      "execution_count": 73,
      "outputs": [
        {
          "output_type": "stream",
          "text": [
            "(2037, 1)\n",
            "Avg loss: 64.66447865962982\n"
          ],
          "name": "stdout"
        }
      ]
    },
    {
      "cell_type": "code",
      "metadata": {
        "id": "L_FowUFTTXBM",
        "colab_type": "code",
        "colab": {
          "base_uri": "https://localhost:8080/",
          "height": 483
        },
        "outputId": "71726892-a1e8-47be-d48e-e6216dd0e056"
      },
      "source": [
        "plot(actual[-100:], pred[-100:])"
      ],
      "execution_count": 74,
      "outputs": [
        {
          "output_type": "display_data",
          "data": {
            "text/plain": [
              "<Figure size 720x576 with 1 Axes>"
            ],
            "image/png": "[encoded data removed]"
          },
          "metadata": {
            "tags": [],
            "needs_background": "light"
          }
        }
      ]
    },
    {
      "cell_type": "markdown",
      "metadata": {
        "id": "r_faUFu04Y4M",
        "colab_type": "text"
      },
      "source": [
        "# Strategy"
      ]
    },
    {
      "cell_type": "code",
      "metadata": {
        "id": "DbgwUJ5-Aibs",
        "colab_type": "code",
        "colab": {}
      },
      "source": [
        "class SimpleStrategy:\n",
        "  \"\"\"Simple strategy\n",
        "\n",
        "  If day's predicted change is positive, hold through day.\n",
        "  If day's predicted change is negative, skip the day.\n",
        "  \"\"\"\n",
        "  def __init__(self, model, ticker):\n",
        "    self.model = model\n",
        "    self.ticker = ticker\n",
        "\n",
        "  def compute_hold(self):\n",
        "    actual, pred, _ = validate(self.model, self.ticker)\n",
        "    actual, pred = actual.squeeze(), pred.squeeze()\n",
        "    assert len(actual) == len(pred)\n",
        "    hold = pred[1:] > pred[:-1]\n",
        "    return pd.DataFrame.from_dict({\n",
        "        'actual': actual[1:],\n",
        "        'pred': pred[1:],\n",
        "        'hold': hold,\n",
        "    })\n",
        "\n",
        "def compute_returns(df):\n",
        "  df = df.copy()\n",
        "  df.loc[:, 'roi_actual'] = df.actual / df.actual.shift(1)\n",
        "  df.loc[:, 'roi_pred'] = df.pred / df.pred.shift(1)\n",
        "  return df\n",
        "\n",
        "def total_return(df, query=None):\n",
        "  if query:\n",
        "    df = df.query(query)\n",
        "  roi_actual = df.roi_actual.product()\n",
        "  roi_pred = df.roi_pred.product()\n",
        "  print(f'{query}; Actual: {roi_actual:0.4f}; predicted: {roi_pred:0.4f}')\n",
        "\n",
        "def model_roi(model, ticker):\n",
        "  strat = SimpleStrategy(model, ticker)\n",
        "  df_hold = strat.compute_hold()\n",
        "  df_roi = compute_returns(df_hold)\n",
        "  total_return(df_roi)\n",
        "  total_return(df_roi, 'hold == True')\n",
        "  total_return(df_roi, 'hold == False')\n"
      ],
      "execution_count": 116,
      "outputs": []
    },
    {
      "cell_type": "code",
      "metadata": {
        "id": "fsnd1wMfLZYB",
        "colab_type": "code",
        "colab": {
          "base_uri": "https://localhost:8080/",
          "height": 69
        },
        "outputId": "add3b3b7-5311-4902-c686-4601b53a47d2"
      },
      "source": [
        "model_roi(model, 'FB')"
      ],
      "execution_count": 117,
      "outputs": [
        {
          "output_type": "stream",
          "text": [
            "None; Actual: 7.3898; predicted: 6.8817\n",
            "hold == True; Actual: 3.5620; predicted: 96785.3438\n",
            "hold == False; Actual: 2.0747; predicted: 0.0001\n"
          ],
          "name": "stdout"
        }
      ]
    },
    {
      "cell_type": "code",
      "metadata": {
        "id": "YFYtDxs4NXso",
        "colab_type": "code",
        "colab": {
          "base_uri": "https://localhost:8080/",
          "height": 69
        },
        "outputId": "9bc79199-1132-4078-b0ca-9ef212c270ce"
      },
      "source": [
        "model_roi(model, 'GOOG')"
      ],
      "execution_count": 118,
      "outputs": [
        {
          "output_type": "stream",
          "text": [
            "None; Actual: 28.7230; predicted: 26.5218\n",
            "hold == True; Actual: 4.3168; predicted: 254105568.0000\n",
            "hold == False; Actual: 6.6537; predicted: 0.0000\n"
          ],
          "name": "stdout"
        }
      ]
    },
    {
      "cell_type": "code",
      "metadata": {
        "id": "D6i99BJSNkUh",
        "colab_type": "code",
        "colab": {
          "base_uri": "https://localhost:8080/",
          "height": 69
        },
        "outputId": "67c4f62a-c244-4e2b-b933-e7ec1bd17105"
      },
      "source": [
        "model_roi(MeanModel(), 'FB')"
      ],
      "execution_count": 119,
      "outputs": [
        {
          "output_type": "stream",
          "text": [
            "None; Actual: 7.3898; predicted: 6.9293\n",
            "hold == True; Actual: 4.5332; predicted: 1503.1960\n",
            "hold == False; Actual: 1.6302; predicted: 0.0046\n"
          ],
          "name": "stdout"
        }
      ]
    },
    {
      "cell_type": "code",
      "metadata": {
        "id": "IPBAYoOtOrQn",
        "colab_type": "code",
        "colab": {
          "base_uri": "https://localhost:8080/",
          "height": 69
        },
        "outputId": "72a577f9-cadc-4a44-94d9-95dbc194b448"
      },
      "source": [
        "model_roi(MeanModel(), 'GOOG')"
      ],
      "execution_count": 120,
      "outputs": [
        {
          "output_type": "stream",
          "text": [
            "None; Actual: 28.7230; predicted: 26.8085\n",
            "hold == True; Actual: 9.9587; predicted: 163240.8750\n",
            "hold == False; Actual: 2.8842; predicted: 0.0002\n"
          ],
          "name": "stdout"
        }
      ]
    }
  ]
}