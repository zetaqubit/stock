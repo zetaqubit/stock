{
  "nbformat": 4,
  "nbformat_minor": 0,
  "metadata": {
    "kernelspec": {
      "display_name": "Python 3",
      "language": "python",
      "name": "python3"
    },
    "language_info": {
      "codemirror_mode": {
        "name": "ipython",
        "version": 3
      },
      "file_extension": ".py",
      "mimetype": "text/x-python",
      "name": "python",
      "nbconvert_exporter": "python",
      "pygments_lexer": "ipython3",
      "version": "3.6.3"
    },
    "colab": {
      "name": "single_stock_model_v2.ipynb",
      "provenance": []
    }
  },
  "cells": [
    {
      "cell_type": "markdown",
      "metadata": {
        "id": "JxYUXM_OnIiA",
        "colab_type": "text"
      },
      "source": [
        "# Description\n",
        "\n",
        "A simple model to predict a stock's price given its recent price history.\n",
        "\n",
        "\n",
        "# Versions\n",
        "## v1\n",
        "- Context window: 8 days price history\n",
        "- Linear model predicts next day price\n",
        "- L2 loss\n",
        "- Naive strategy of holding stock iff predicted price for day went up\n",
        "- Table comparing return vs baselines: always hold, and mean price predictor"
      ]
    },
    {
      "cell_type": "code",
      "metadata": {
        "id": "gjPhwU4sTXAk",
        "colab_type": "code",
        "colab": {}
      },
      "source": [
        "from matplotlib import pyplot as plt\n",
        "\n",
        "%matplotlib inline\n",
        "\n",
        "import pandas as pd\n",
        "import torch as th\n",
        "import numpy as np\n",
        "\n",
        "plt.rcParams.update({\n",
        "    \"lines.color\": \"white\",\n",
        "    \"patch.edgecolor\": \"white\",\n",
        "    \"text.color\": \"black\",\n",
        "    \"axes.facecolor\": \"white\",\n",
        "    \"axes.edgecolor\": \"lightgray\",\n",
        "    \"axes.labelcolor\": \"white\",\n",
        "    \"xtick.color\": \"white\",\n",
        "    \"ytick.color\": \"white\",\n",
        "    \"grid.color\": \"lightgray\",\n",
        "    \"figure.facecolor\": \"black\",\n",
        "    \"figure.edgecolor\": \"black\",\n",
        "    \"savefig.facecolor\": \"black\",\n",
        "    \"savefig.edgecolor\": \"black\"})"
      ],
      "execution_count": 1,
      "outputs": []
    },
    {
      "cell_type": "markdown",
      "metadata": {
        "id": "QI-drLqv3_Dy",
        "colab_type": "text"
      },
      "source": [
        "# Dataset"
      ]
    },
    {
      "cell_type": "code",
      "metadata": {
        "id": "Ov_fnPOBTXAp",
        "colab_type": "code",
        "colab": {}
      },
      "source": [
        "from dataclasses import dataclass\n",
        "\n",
        "batch_size = 128\n",
        "hist_win = 8\n",
        "pred_win = 1\n",
        "\n",
        "@dataclass\n",
        "class DateRange:\n",
        "  \"\"\"Specifies a range of dates, using [start, end).\"\"\"\n",
        "  start: str = None\n",
        "  end: str = None\n",
        "\n",
        "train_date_range = DateRange('2003-01-01', '2017-01-01')\n",
        "eval_date_range = DateRange('2017-01-01', '2020-01-01')"
      ],
      "execution_count": 2,
      "outputs": []
    },
    {
      "cell_type": "code",
      "metadata": {
        "id": "LZ_5pbU3TXAr",
        "colab_type": "code",
        "colab": {
          "base_uri": "https://localhost:8080/",
          "height": 348
        },
        "outputId": "d3267272-4dfe-440a-c268-9fbeb5dbfdc8"
      },
      "source": [
        "def load_df(ticker, date_range: DateRange):\n",
        "  \"\"\"Loads the DataFrame for ticker between [start_date, end_date).\"\"\"\n",
        "  df = pd.read_csv(f'~/data/stock/kaggle/full_history/{ticker}.csv')\n",
        "  df['date'] = pd.to_datetime(df['date'])\n",
        "  if date_range.start:\n",
        "    df = df.query(f'date >= \"{date_range.start}\"')\n",
        "  if date_range.end:\n",
        "    df = df.query(f'date < \"{date_range.end}\"')\n",
        "  # reverse so oldest is first\n",
        "  df = df.iloc[::-1].reset_index(drop=True)\n",
        "  return df\n",
        "\n",
        "df_train = load_df('GOOG', train_date_range)\n",
        "df_valid = load_df('GOOG', eval_date_range)\n",
        "df_train.head(10)"
      ],
      "execution_count": 25,
      "outputs": [
        {
          "output_type": "execute_result",
          "data": {
            "text/plain": [
              "        date    volume       open       high        low      close   adjclose\n",
              "0 2004-08-19  44871300  49.813286  51.835709  47.800831  49.982655  49.982655\n",
              "1 2004-08-20  22942800  50.316402  54.336334  50.062355  53.952770  53.952770\n",
              "2 2004-08-23  18342800  55.168217  56.528118  54.321388  54.495735  54.495735\n",
              "3 2004-08-24  15319700  55.412300  55.591629  51.591621  52.239193  52.239193\n",
              "4 2004-08-25   9232100  52.284027  53.798351  51.746044  52.802086  52.802086\n",
              "5 2004-08-26   7128600  52.279045  53.773445  52.134586  53.753517  53.753517\n",
              "6 2004-08-27   6241200  53.848164  54.107193  52.647663  52.876804  52.876804\n",
              "7 2004-08-30   5221400  52.443428  52.548038  50.814533  50.814533  50.814533\n",
              "8 2004-08-31   4941200  50.958992  51.661362  50.889256  50.993862  50.993862\n",
              "9 2004-09-01   9181600  51.158245  51.292744  49.648903  49.937820  49.937820"
            ],
            "text/html": [
              "<div>\n",
              "<style scoped>\n",
              "    .dataframe tbody tr th:only-of-type {\n",
              "        vertical-align: middle;\n",
              "    }\n",
              "\n",
              "    .dataframe tbody tr th {\n",
              "        vertical-align: top;\n",
              "    }\n",
              "\n",
              "    .dataframe thead th {\n",
              "        text-align: right;\n",
              "    }\n",
              "</style>\n",
              "<table border=\"1\" class=\"dataframe\">\n",
              "  <thead>\n",
              "    <tr style=\"text-align: right;\">\n",
              "      <th></th>\n",
              "      <th>date</th>\n",
              "      <th>volume</th>\n",
              "      <th>open</th>\n",
              "      <th>high</th>\n",
              "      <th>low</th>\n",
              "      <th>close</th>\n",
              "      <th>adjclose</th>\n",
              "    </tr>\n",
              "  </thead>\n",
              "  <tbody>\n",
              "    <tr>\n",
              "      <th>0</th>\n",
              "      <td>2004-08-19</td>\n",
              "      <td>44871300</td>\n",
              "      <td>49.813286</td>\n",
              "      <td>51.835709</td>\n",
              "      <td>47.800831</td>\n",
              "      <td>49.982655</td>\n",
              "      <td>49.982655</td>\n",
              "    </tr>\n",
              "    <tr>\n",
              "      <th>1</th>\n",
              "      <td>2004-08-20</td>\n",
              "      <td>22942800</td>\n",
              "      <td>50.316402</td>\n",
              "      <td>54.336334</td>\n",
              "      <td>50.062355</td>\n",
              "      <td>53.952770</td>\n",
              "      <td>53.952770</td>\n",
              "    </tr>\n",
              "    <tr>\n",
              "      <th>2</th>\n",
              "      <td>2004-08-23</td>\n",
              "      <td>18342800</td>\n",
              "      <td>55.168217</td>\n",
              "      <td>56.528118</td>\n",
              "      <td>54.321388</td>\n",
              "      <td>54.495735</td>\n",
              "      <td>54.495735</td>\n",
              "    </tr>\n",
              "    <tr>\n",
              "      <th>3</th>\n",
              "      <td>2004-08-24</td>\n",
              "      <td>15319700</td>\n",
              "      <td>55.412300</td>\n",
              "      <td>55.591629</td>\n",
              "      <td>51.591621</td>\n",
              "      <td>52.239193</td>\n",
              "      <td>52.239193</td>\n",
              "    </tr>\n",
              "    <tr>\n",
              "      <th>4</th>\n",
              "      <td>2004-08-25</td>\n",
              "      <td>9232100</td>\n",
              "      <td>52.284027</td>\n",
              "      <td>53.798351</td>\n",
              "      <td>51.746044</td>\n",
              "      <td>52.802086</td>\n",
              "      <td>52.802086</td>\n",
              "    </tr>\n",
              "    <tr>\n",
              "      <th>5</th>\n",
              "      <td>2004-08-26</td>\n",
              "      <td>7128600</td>\n",
              "      <td>52.279045</td>\n",
              "      <td>53.773445</td>\n",
              "      <td>52.134586</td>\n",
              "      <td>53.753517</td>\n",
              "      <td>53.753517</td>\n",
              "    </tr>\n",
              "    <tr>\n",
              "      <th>6</th>\n",
              "      <td>2004-08-27</td>\n",
              "      <td>6241200</td>\n",
              "      <td>53.848164</td>\n",
              "      <td>54.107193</td>\n",
              "      <td>52.647663</td>\n",
              "      <td>52.876804</td>\n",
              "      <td>52.876804</td>\n",
              "    </tr>\n",
              "    <tr>\n",
              "      <th>7</th>\n",
              "      <td>2004-08-30</td>\n",
              "      <td>5221400</td>\n",
              "      <td>52.443428</td>\n",
              "      <td>52.548038</td>\n",
              "      <td>50.814533</td>\n",
              "      <td>50.814533</td>\n",
              "      <td>50.814533</td>\n",
              "    </tr>\n",
              "    <tr>\n",
              "      <th>8</th>\n",
              "      <td>2004-08-31</td>\n",
              "      <td>4941200</td>\n",
              "      <td>50.958992</td>\n",
              "      <td>51.661362</td>\n",
              "      <td>50.889256</td>\n",
              "      <td>50.993862</td>\n",
              "      <td>50.993862</td>\n",
              "    </tr>\n",
              "    <tr>\n",
              "      <th>9</th>\n",
              "      <td>2004-09-01</td>\n",
              "      <td>9181600</td>\n",
              "      <td>51.158245</td>\n",
              "      <td>51.292744</td>\n",
              "      <td>49.648903</td>\n",
              "      <td>49.937820</td>\n",
              "      <td>49.937820</td>\n",
              "    </tr>\n",
              "  </tbody>\n",
              "</table>\n",
              "</div>"
            ]
          },
          "metadata": {
            "tags": []
          },
          "execution_count": 25
        }
      ]
    },
    {
      "cell_type": "code",
      "metadata": {
        "id": "2uVfcDoOtBJI",
        "colab_type": "code",
        "colab": {
          "base_uri": "https://localhost:8080/",
          "height": 348
        },
        "outputId": "3da74413-82d7-4f1f-d718-9b4951cb6e7e"
      },
      "source": [
        "df_train.tail(10)"
      ],
      "execution_count": 26,
      "outputs": [
        {
          "output_type": "execute_result",
          "data": {
            "text/plain": [
              "           date   volume        open        high         low       close  \\\n",
              "3105 2016-12-16  2443800  800.400024  800.856018  790.289978  790.799988   \n",
              "3106 2016-12-19  1232100  790.219971  797.659973  786.270020  794.200012   \n",
              "3107 2016-12-20   951000  796.760010  798.650024  793.270020  796.419983   \n",
              "3108 2016-12-21  1211300  795.840027  796.676025  787.099976  794.559998   \n",
              "3109 2016-12-22   972200  792.359985  793.320007  788.580017  791.260010   \n",
              "3110 2016-12-23   623400  790.900024  792.739990  787.280029  789.909973   \n",
              "3111 2016-12-27   789100  790.679993  797.859985  787.656982  791.549988   \n",
              "3112 2016-12-28  1153800  793.700012  794.229980  783.200012  785.049988   \n",
              "3113 2016-12-29   744300  783.330017  785.929993  778.919983  782.789978   \n",
              "3114 2016-12-30  1770000  782.750000  782.780029  770.409973  771.820007   \n",
              "\n",
              "        adjclose  \n",
              "3105  790.799988  \n",
              "3106  794.200012  \n",
              "3107  796.419983  \n",
              "3108  794.559998  \n",
              "3109  791.260010  \n",
              "3110  789.909973  \n",
              "3111  791.549988  \n",
              "3112  785.049988  \n",
              "3113  782.789978  \n",
              "3114  771.820007  "
            ],
            "text/html": [
              "<div>\n",
              "<style scoped>\n",
              "    .dataframe tbody tr th:only-of-type {\n",
              "        vertical-align: middle;\n",
              "    }\n",
              "\n",
              "    .dataframe tbody tr th {\n",
              "        vertical-align: top;\n",
              "    }\n",
              "\n",
              "    .dataframe thead th {\n",
              "        text-align: right;\n",
              "    }\n",
              "</style>\n",
              "<table border=\"1\" class=\"dataframe\">\n",
              "  <thead>\n",
              "    <tr style=\"text-align: right;\">\n",
              "      <th></th>\n",
              "      <th>date</th>\n",
              "      <th>volume</th>\n",
              "      <th>open</th>\n",
              "      <th>high</th>\n",
              "      <th>low</th>\n",
              "      <th>close</th>\n",
              "      <th>adjclose</th>\n",
              "    </tr>\n",
              "  </thead>\n",
              "  <tbody>\n",
              "    <tr>\n",
              "      <th>3105</th>\n",
              "      <td>2016-12-16</td>\n",
              "      <td>2443800</td>\n",
              "      <td>800.400024</td>\n",
              "      <td>800.856018</td>\n",
              "      <td>790.289978</td>\n",
              "      <td>790.799988</td>\n",
              "      <td>790.799988</td>\n",
              "    </tr>\n",
              "    <tr>\n",
              "      <th>3106</th>\n",
              "      <td>2016-12-19</td>\n",
              "      <td>1232100</td>\n",
              "      <td>790.219971</td>\n",
              "      <td>797.659973</td>\n",
              "      <td>786.270020</td>\n",
              "      <td>794.200012</td>\n",
              "      <td>794.200012</td>\n",
              "    </tr>\n",
              "    <tr>\n",
              "      <th>3107</th>\n",
              "      <td>2016-12-20</td>\n",
              "      <td>951000</td>\n",
              "      <td>796.760010</td>\n",
              "      <td>798.650024</td>\n",
              "      <td>793.270020</td>\n",
              "      <td>796.419983</td>\n",
              "      <td>796.419983</td>\n",
              "    </tr>\n",
              "    <tr>\n",
              "      <th>3108</th>\n",
              "      <td>2016-12-21</td>\n",
              "      <td>1211300</td>\n",
              "      <td>795.840027</td>\n",
              "      <td>796.676025</td>\n",
              "      <td>787.099976</td>\n",
              "      <td>794.559998</td>\n",
              "      <td>794.559998</td>\n",
              "    </tr>\n",
              "    <tr>\n",
              "      <th>3109</th>\n",
              "      <td>2016-12-22</td>\n",
              "      <td>972200</td>\n",
              "      <td>792.359985</td>\n",
              "      <td>793.320007</td>\n",
              "      <td>788.580017</td>\n",
              "      <td>791.260010</td>\n",
              "      <td>791.260010</td>\n",
              "    </tr>\n",
              "    <tr>\n",
              "      <th>3110</th>\n",
              "      <td>2016-12-23</td>\n",
              "      <td>623400</td>\n",
              "      <td>790.900024</td>\n",
              "      <td>792.739990</td>\n",
              "      <td>787.280029</td>\n",
              "      <td>789.909973</td>\n",
              "      <td>789.909973</td>\n",
              "    </tr>\n",
              "    <tr>\n",
              "      <th>3111</th>\n",
              "      <td>2016-12-27</td>\n",
              "      <td>789100</td>\n",
              "      <td>790.679993</td>\n",
              "      <td>797.859985</td>\n",
              "      <td>787.656982</td>\n",
              "      <td>791.549988</td>\n",
              "      <td>791.549988</td>\n",
              "    </tr>\n",
              "    <tr>\n",
              "      <th>3112</th>\n",
              "      <td>2016-12-28</td>\n",
              "      <td>1153800</td>\n",
              "      <td>793.700012</td>\n",
              "      <td>794.229980</td>\n",
              "      <td>783.200012</td>\n",
              "      <td>785.049988</td>\n",
              "      <td>785.049988</td>\n",
              "    </tr>\n",
              "    <tr>\n",
              "      <th>3113</th>\n",
              "      <td>2016-12-29</td>\n",
              "      <td>744300</td>\n",
              "      <td>783.330017</td>\n",
              "      <td>785.929993</td>\n",
              "      <td>778.919983</td>\n",
              "      <td>782.789978</td>\n",
              "      <td>782.789978</td>\n",
              "    </tr>\n",
              "    <tr>\n",
              "      <th>3114</th>\n",
              "      <td>2016-12-30</td>\n",
              "      <td>1770000</td>\n",
              "      <td>782.750000</td>\n",
              "      <td>782.780029</td>\n",
              "      <td>770.409973</td>\n",
              "      <td>771.820007</td>\n",
              "      <td>771.820007</td>\n",
              "    </tr>\n",
              "  </tbody>\n",
              "</table>\n",
              "</div>"
            ]
          },
          "metadata": {
            "tags": []
          },
          "execution_count": 26
        }
      ]
    },
    {
      "cell_type": "code",
      "metadata": {
        "id": "It30Ts8cTXAu",
        "colab_type": "code",
        "colab": {}
      },
      "source": [
        "from torch.utils.data.dataset import Dataset\n",
        "from torch.utils.data import DataLoader\n",
        "\n",
        "# Caveats\n",
        "#   - looks at only 1 column\n",
        "class StockSeqDataset(Dataset):\n",
        "    def __init__(self, df, column='adjclose', hist_win=hist_win, pred_win=pred_win):\n",
        "        self.df = df\n",
        "        self.col = column\n",
        "        self.hist_win = hist_win\n",
        "        self.pred_win = pred_win\n",
        "    \n",
        "    def __getitem__(self, index):\n",
        "        assert 0 <= index < len(self)\n",
        "        x_end = index + self.hist_win\n",
        "        x = self.df.iloc[index:x_end][self.col]\n",
        "        y = self.df.iloc[x_end:x_end+self.pred_win][self.col]\n",
        "        return (th.from_numpy(np.array(x, dtype=np.float32)),\n",
        "                th.from_numpy(np.array(y, dtype=np.float32)))\n",
        "    \n",
        "    def __len__(self):\n",
        "        return len(self.df) - self.hist_win - self.pred_win + 1\n",
        "\n",
        "ds_train = StockSeqDataset(df_train)\n",
        "ds_valid = StockSeqDataset(df_valid)\n",
        "dl_train = DataLoader(dataset=ds_train, batch_size=batch_size, shuffle=True)\n",
        "dl_valid = DataLoader(dataset=ds_valid, batch_size=batch_size, shuffle=False)"
      ],
      "execution_count": 27,
      "outputs": []
    },
    {
      "cell_type": "code",
      "metadata": {
        "id": "1F7NjiF0TXAw",
        "colab_type": "code",
        "colab": {
          "base_uri": "https://localhost:8080/",
          "height": 52
        },
        "outputId": "b61d4504-c1d7-4236-e499-c64dddabe26a"
      },
      "source": [
        "ds_train[0]"
      ],
      "execution_count": 28,
      "outputs": [
        {
          "output_type": "execute_result",
          "data": {
            "text/plain": [
              "(tensor([49.9827, 53.9528, 54.4957, 52.2392, 52.8021, 53.7535, 52.8768, 50.8145]),\n",
              " tensor([50.9939]))"
            ]
          },
          "metadata": {
            "tags": []
          },
          "execution_count": 28
        }
      ]
    },
    {
      "cell_type": "code",
      "metadata": {
        "id": "gtIHYe9i07sC",
        "colab_type": "code",
        "colab": {
          "base_uri": "https://localhost:8080/",
          "height": 35
        },
        "outputId": "d4ab44cb-02b7-41c7-fbe6-53a7f6189637"
      },
      "source": [
        "x, y = next(iter(dl_train))\n",
        "x.shape, y.shape"
      ],
      "execution_count": 30,
      "outputs": [
        {
          "output_type": "execute_result",
          "data": {
            "text/plain": [
              "(torch.Size([128, 8]), torch.Size([128, 1]))"
            ]
          },
          "metadata": {
            "tags": []
          },
          "execution_count": 30
        }
      ]
    },
    {
      "cell_type": "markdown",
      "metadata": {
        "id": "aOpyV9RT4Bxv",
        "colab_type": "text"
      },
      "source": [
        "# Model"
      ]
    },
    {
      "cell_type": "code",
      "metadata": {
        "id": "N63x007vTXA1",
        "colab_type": "code",
        "colab": {}
      },
      "source": [
        "import pytorch_lightning as pl\n",
        "\n",
        "class PricePredictor(pl.LightningModule):\n",
        "  def __init__(self):\n",
        "    super().__init__()\n",
        "    self.model = th.nn.Sequential(\n",
        "      th.nn.Linear(hist_win, pred_win),\n",
        "      #th.nn.ReLU(),\n",
        "      #th.nn.Linear(100, pred_win),\n",
        "    )\n",
        "    self.loss_fn = th.nn.MSELoss()\n",
        "\n",
        "  def forward(self, x):\n",
        "    return self.model.forward(x)\n",
        "  \n",
        "  def training_step(self, batch, batch_idx):\n",
        "    x, y = batch\n",
        "    y_pred = self.model(x)\n",
        "    loss = self.loss_fn(y_pred, y)\n",
        "    result = pl.TrainResult(loss)\n",
        "    result.log('train_loss', loss, on_epoch=True)\n",
        "    return result\n",
        "\n",
        "  def validation_step(self, batch, batch_idx):\n",
        "    x, y = batch\n",
        "    y_pred = self.model(x)\n",
        "    loss = self.loss_fn(y_pred, y)\n",
        "    result = pl.EvalResult(checkpoint_on=loss)\n",
        "    result.log('val_loss', loss)\n",
        "    return result\n",
        "\n",
        "  def configure_optimizers(self):\n",
        "    optimizer = th.optim.Adam(self.parameters(), lr=learning_rate,\n",
        "                              betas=(0.5, 0.5))\n",
        "    scheduler = th.optim.lr_scheduler.ExponentialLR(optimizer, 0.9)\n",
        "    return [optimizer], [scheduler]"
      ],
      "execution_count": 40,
      "outputs": []
    },
    {
      "cell_type": "code",
      "metadata": {
        "id": "1BNBuMNuw9_v",
        "colab_type": "code",
        "colab": {
          "base_uri": "https://localhost:8080/",
          "height": 1000
        },
        "outputId": "0f00818d-3e6a-4131-d2b4-08e05bed34ee"
      },
      "source": [
        "predictor = PricePredictor()\n",
        "trainer = pl.Trainer(max_epochs=50)\n",
        "trainer.fit(predictor, dl_train, dl_valid)"
      ],
      "execution_count": 41,
      "outputs": [
        {
          "output_type": "stream",
          "text": [
            "GPU available: False, used: False\n",
            "TPU available: False, using: 0 TPU cores\n",
            "\n",
            "  | Name    | Type       | Params\n",
            "---------------------------------------\n",
            "0 | model   | Sequential | 9     \n",
            "1 | loss_fn | MSELoss    | 0     \n"
          ],
          "name": "stderr"
        },
        {
          "output_type": "stream",
          "text": [
            "Epoch 0:  81%|████████  | 25/31 [00:01<00:00, 18.50it/s, loss=85511.766, v_num=9]\n",
            "Validating: 0it [00:00, ?it/s]\u001b[A\n",
            "Epoch 0:  87%|████████▋ | 27/31 [00:01<00:00, 18.18it/s, loss=85511.766, v_num=9]\n",
            "Epoch 0:  97%|█████████▋| 30/31 [00:01<00:00, 17.97it/s, loss=85511.766, v_num=9]\n",
            "Epoch 0: 100%|██████████| 31/31 [00:01<00:00, 17.99it/s, loss=85511.766, v_num=9]\n",
            "Epoch 1:  81%|████████  | 25/31 [00:01<00:00, 18.23it/s, loss=226.982, v_num=9]\n",
            "Validating: 0it [00:00, ?it/s]\u001b[A\n",
            "Epoch 1:  87%|████████▋ | 27/31 [00:01<00:00, 18.01it/s, loss=226.982, v_num=9]\n",
            "Epoch 1:  97%|█████████▋| 30/31 [00:01<00:00, 17.87it/s, loss=226.982, v_num=9]\n",
            "Epoch 1: 100%|██████████| 31/31 [00:01<00:00, 17.84it/s, loss=226.982, v_num=9]\n",
            "Epoch 2:  81%|████████  | 25/31 [00:01<00:00, 17.33it/s, loss=82.542, v_num=9]\n",
            "Validating: 0it [00:00, ?it/s]\u001b[A\n",
            "Epoch 2:  87%|████████▋ | 27/31 [00:01<00:00, 17.13it/s, loss=82.542, v_num=9]\n",
            "Epoch 2:  97%|█████████▋| 30/31 [00:01<00:00, 17.17it/s, loss=82.542, v_num=9]\n",
            "Epoch 2: 100%|██████████| 31/31 [00:01<00:00, 17.19it/s, loss=82.542, v_num=9]\n",
            "Epoch 3:  81%|████████  | 25/31 [00:01<00:00, 17.21it/s, loss=79.047, v_num=9]\n",
            "Validating: 0it [00:00, ?it/s]\u001b[A\n",
            "Epoch 3:  90%|█████████ | 28/31 [00:01<00:00, 17.35it/s, loss=79.047, v_num=9]\n",
            "Epoch 3: 100%|██████████| 31/31 [00:01<00:00, 17.34it/s, loss=79.047, v_num=9]\n",
            "Epoch 4:  81%|████████  | 25/31 [00:01<00:00, 15.93it/s, loss=76.153, v_num=9]\n",
            "Validating: 0it [00:00, ?it/s]\u001b[A\n",
            "Validating:  17%|█▋        | 1/6 [00:00<00:00,  6.29it/s]\u001b[A\n",
            "Validating:  33%|███▎      | 2/6 [00:00<00:00,  6.33it/s]\u001b[A\n",
            "Epoch 4:  90%|█████████ | 28/31 [00:02<00:00, 13.77it/s, loss=76.153, v_num=9]\n",
            "Validating:  67%|██████▋   | 4/6 [00:00<00:00,  7.36it/s]\u001b[A\n",
            "Epoch 4: 100%|██████████| 31/31 [00:02<00:00, 13.74it/s, loss=76.153, v_num=9]\n",
            "Epoch 5:  81%|████████  | 25/31 [00:01<00:00, 17.38it/s, loss=72.199, v_num=9]\n",
            "Validating: 0it [00:00, ?it/s]\u001b[A\n",
            "Epoch 5:  90%|█████████ | 28/31 [00:01<00:00, 16.94it/s, loss=72.199, v_num=9]\n",
            "Validating:  67%|██████▋   | 4/6 [00:00<00:00, 14.96it/s]\u001b[A\n",
            "Epoch 5: 100%|██████████| 31/31 [00:01<00:00, 17.04it/s, loss=72.199, v_num=9]\n",
            "Epoch 6:  81%|████████  | 25/31 [00:01<00:00, 17.40it/s, loss=70.428, v_num=9]\n",
            "Validating: 0it [00:00, ?it/s]\u001b[A\n",
            "Epoch 6:  90%|█████████ | 28/31 [00:01<00:00, 16.97it/s, loss=70.428, v_num=9]\n",
            "Validating:  67%|██████▋   | 4/6 [00:00<00:00, 15.18it/s]\u001b[A\n",
            "Epoch 6: 100%|██████████| 31/31 [00:01<00:00, 16.96it/s, loss=70.428, v_num=9]\n",
            "Epoch 7:  81%|████████  | 25/31 [00:01<00:00, 14.42it/s, loss=74.669, v_num=9]\n",
            "Validating: 0it [00:00, ?it/s]\u001b[A\n",
            "Epoch 7:  90%|█████████ | 28/31 [00:01<00:00, 14.37it/s, loss=74.669, v_num=9]\n",
            "Validating:  67%|██████▋   | 4/6 [00:00<00:00, 15.06it/s]\u001b[A\n",
            "Epoch 7: 100%|██████████| 31/31 [00:02<00:00, 14.69it/s, loss=74.669, v_num=9]\n",
            "Epoch 8:  81%|████████  | 25/31 [00:01<00:00, 14.85it/s, loss=70.720, v_num=9]\n",
            "Validating: 0it [00:00, ?it/s]\u001b[A\n",
            "Epoch 8:  90%|█████████ | 28/31 [00:01<00:00, 14.77it/s, loss=70.720, v_num=9]\n",
            "Validating:  67%|██████▋   | 4/6 [00:00<00:00, 15.81it/s]\u001b[A\n",
            "Epoch 8: 100%|██████████| 31/31 [00:02<00:00, 15.01it/s, loss=70.720, v_num=9]\n",
            "Epoch 9:  81%|████████  | 25/31 [00:01<00:00, 13.50it/s, loss=74.491, v_num=9]\n",
            "Validating: 0it [00:00, ?it/s]\u001b[A\n",
            "Validating:  33%|███▎      | 2/6 [00:00<00:00,  8.81it/s]\u001b[A\n",
            "Epoch 9:  90%|█████████ | 28/31 [00:02<00:00, 12.67it/s, loss=74.491, v_num=9]\n",
            "Epoch 9: 100%|██████████| 31/31 [00:02<00:00, 12.84it/s, loss=74.491, v_num=9]\n",
            "Epoch 10:  81%|████████  | 25/31 [00:01<00:00, 16.79it/s, loss=74.766, v_num=9]\n",
            "Validating: 0it [00:00, ?it/s]\u001b[A\n",
            "Epoch 10:  90%|█████████ | 28/31 [00:01<00:00, 16.50it/s, loss=74.766, v_num=9]\n",
            "Validating:  67%|██████▋   | 4/6 [00:00<00:00, 15.86it/s]\u001b[A\n",
            "Epoch 10: 100%|██████████| 31/31 [00:01<00:00, 15.64it/s, loss=74.766, v_num=9]\n",
            "Epoch 11:  81%|████████  | 25/31 [00:01<00:00, 16.99it/s, loss=69.030, v_num=9]\n",
            "Validating: 0it [00:00, ?it/s]\u001b[A\n",
            "Epoch 11:  90%|█████████ | 28/31 [00:01<00:00, 16.96it/s, loss=69.030, v_num=9]\n",
            "Epoch 11: 100%|██████████| 31/31 [00:01<00:00, 17.26it/s, loss=69.030, v_num=9]\n",
            "Epoch 12:  81%|████████  | 25/31 [00:01<00:00, 16.06it/s, loss=66.413, v_num=9]\n",
            "Validating: 0it [00:00, ?it/s]\u001b[A\n",
            "Epoch 12:  90%|█████████ | 28/31 [00:01<00:00, 15.47it/s, loss=66.413, v_num=9]\n",
            "Validating:  67%|██████▋   | 4/6 [00:00<00:00, 12.39it/s]\u001b[A\n",
            "Epoch 12: 100%|██████████| 31/31 [00:01<00:00, 15.51it/s, loss=66.413, v_num=9]\n",
            "Epoch 13:  81%|████████  | 25/31 [00:01<00:00, 15.34it/s, loss=67.286, v_num=9]\n",
            "Validating: 0it [00:00, ?it/s]\u001b[A\n",
            "Epoch 13:  90%|█████████ | 28/31 [00:01<00:00, 15.08it/s, loss=67.286, v_num=9]\n",
            "Epoch 13: 100%|██████████| 31/31 [00:02<00:00, 15.45it/s, loss=67.286, v_num=9]\n",
            "Epoch 14:  81%|████████  | 25/31 [00:01<00:00, 13.36it/s, loss=66.626, v_num=9]\n",
            "Validating: 0it [00:00, ?it/s]\u001b[A\n",
            "Validating:  33%|███▎      | 2/6 [00:00<00:00, 15.85it/s]\u001b[A\n",
            "Epoch 14:  90%|█████████ | 28/31 [00:02<00:00, 13.28it/s, loss=66.626, v_num=9]\n",
            "Validating:  67%|██████▋   | 4/6 [00:00<00:00, 11.68it/s]\u001b[A\n",
            "Epoch 14: 100%|██████████| 31/31 [00:02<00:00, 13.08it/s, loss=66.626, v_num=9]\n",
            "Epoch 15:  81%|████████  | 25/31 [00:01<00:00, 21.30it/s, loss=70.392, v_num=9]\n",
            "Validating: 0it [00:00, ?it/s]\u001b[A\n",
            "Epoch 15:  90%|█████████ | 28/31 [00:01<00:00, 21.60it/s, loss=70.392, v_num=9]\n",
            "Epoch 15: 100%|██████████| 31/31 [00:01<00:00, 22.06it/s, loss=70.392, v_num=9]\n",
            "Epoch 16:  81%|████████  | 25/31 [00:00<00:00, 26.21it/s, loss=70.877, v_num=9]\n",
            "Validating: 0it [00:00, ?it/s]\u001b[A\n",
            "Epoch 16:  90%|█████████ | 28/31 [00:01<00:00, 25.47it/s, loss=70.877, v_num=9]\n",
            "Epoch 16: 100%|██████████| 31/31 [00:01<00:00, 25.51it/s, loss=70.877, v_num=9]\n",
            "Epoch 17:  81%|████████  | 25/31 [00:01<00:00, 19.72it/s, loss=63.208, v_num=9]\n",
            "Epoch 17:  90%|█████████ | 28/31 [00:01<00:00, 20.46it/s, loss=63.208, v_num=9]\n",
            "Epoch 17: 100%|██████████| 31/31 [00:01<00:00, 20.98it/s, loss=63.208, v_num=9]\n",
            "Epoch 18:  81%|████████  | 25/31 [00:01<00:00, 21.31it/s, loss=65.225, v_num=9]\n",
            "Epoch 18:  90%|█████████ | 28/31 [00:01<00:00, 22.04it/s, loss=65.225, v_num=9]\n",
            "Epoch 18: 100%|██████████| 31/31 [00:01<00:00, 22.52it/s, loss=65.225, v_num=9]\n",
            "Epoch 19:  81%|████████  | 25/31 [00:01<00:00, 23.57it/s, loss=65.652, v_num=9]\n",
            "Validating: 0it [00:00, ?it/s]\u001b[A\n",
            "Epoch 19:  90%|█████████ | 28/31 [00:01<00:00, 21.43it/s, loss=65.652, v_num=9]\n",
            "Epoch 19: 100%|██████████| 31/31 [00:01<00:00, 20.60it/s, loss=65.652, v_num=9]\n",
            "Epoch 20:  81%|████████  | 25/31 [00:01<00:00, 19.30it/s, loss=63.080, v_num=9]\n",
            "Epoch 20:  90%|█████████ | 28/31 [00:01<00:00, 20.05it/s, loss=63.080, v_num=9]\n",
            "Epoch 20: 100%|██████████| 31/31 [00:01<00:00, 20.38it/s, loss=63.080, v_num=9]\n",
            "Epoch 21:  81%|████████  | 25/31 [00:01<00:00, 21.17it/s, loss=67.782, v_num=9]\n",
            "Validating: 0it [00:00, ?it/s]\u001b[A\n",
            "Epoch 21:  90%|█████████ | 28/31 [00:01<00:00, 21.01it/s, loss=67.782, v_num=9]\n",
            "Epoch 21: 100%|██████████| 31/31 [00:01<00:00, 21.27it/s, loss=67.782, v_num=9]\n",
            "Epoch 22:  81%|████████  | 25/31 [00:01<00:00, 18.72it/s, loss=65.696, v_num=9]\n",
            "Validating: 0it [00:00, ?it/s]\u001b[A\n",
            "Epoch 22:  90%|█████████ | 28/31 [00:01<00:00, 18.17it/s, loss=65.696, v_num=9]\n",
            "Validating:  67%|██████▋   | 4/6 [00:00<00:00, 15.71it/s]\u001b[A\n",
            "Epoch 22: 100%|██████████| 31/31 [00:01<00:00, 18.11it/s, loss=65.696, v_num=9]\n",
            "Epoch 23:  81%|████████  | 25/31 [00:01<00:00, 18.74it/s, loss=62.059, v_num=9]\n",
            "Validating: 0it [00:00, ?it/s]\u001b[A\n",
            "Epoch 23:  90%|█████████ | 28/31 [00:01<00:00, 17.58it/s, loss=62.059, v_num=9]\n",
            "Validating:  67%|██████▋   | 4/6 [00:00<00:00, 12.39it/s]\u001b[A\n",
            "Epoch 23: 100%|██████████| 31/31 [00:01<00:00, 17.11it/s, loss=62.059, v_num=9]\n",
            "Epoch 24:  81%|████████  | 25/31 [00:01<00:00, 16.43it/s, loss=65.292, v_num=9]\n",
            "Validating: 0it [00:00, ?it/s]\u001b[A\n",
            "Epoch 24:  90%|█████████ | 28/31 [00:01<00:00, 16.37it/s, loss=65.292, v_num=9]\n",
            "Epoch 24: 100%|██████████| 31/31 [00:01<00:00, 16.64it/s, loss=65.292, v_num=9]\n",
            "Epoch 25:  81%|████████  | 25/31 [00:01<00:00, 16.27it/s, loss=67.244, v_num=9]\n",
            "Epoch 25:  90%|█████████ | 28/31 [00:01<00:00, 17.10it/s, loss=67.244, v_num=9]\n",
            "Epoch 25: 100%|██████████| 31/31 [00:01<00:00, 17.68it/s, loss=67.244, v_num=9]\n",
            "Epoch 26:  81%|████████  | 25/31 [00:01<00:00, 23.31it/s, loss=65.580, v_num=9]\n",
            "Validating: 0it [00:00, ?it/s]\u001b[A\n",
            "Epoch 26:  90%|█████████ | 28/31 [00:01<00:00, 23.46it/s, loss=65.580, v_num=9]\n",
            "Epoch 26: 100%|██████████| 31/31 [00:01<00:00, 23.55it/s, loss=65.580, v_num=9]\n",
            "Epoch 27:  81%|████████  | 25/31 [00:01<00:00, 21.24it/s, loss=64.453, v_num=9]\n",
            "Validating: 0it [00:00, ?it/s]\u001b[A\n",
            "Validating:  17%|█▋        | 1/6 [00:00<00:00,  9.76it/s]\u001b[A\n",
            "Epoch 27: 100%|██████████| 31/31 [00:01<00:00, 20.37it/s, loss=64.453, v_num=9]\n",
            "Epoch 28:  81%|████████  | 25/31 [00:01<00:00, 22.26it/s, loss=64.130, v_num=9]\n",
            "Validating: 0it [00:00, ?it/s]\u001b[A\n",
            "Epoch 28:  90%|█████████ | 28/31 [00:01<00:00, 21.33it/s, loss=64.130, v_num=9]\n",
            "Epoch 28: 100%|██████████| 31/31 [00:01<00:00, 21.68it/s, loss=64.130, v_num=9]\n",
            "Epoch 29:  81%|████████  | 25/31 [00:01<00:00, 21.82it/s, loss=64.689, v_num=9]\n",
            "Validating: 0it [00:00, ?it/s]\u001b[A\n",
            "Epoch 29:  90%|█████████ | 28/31 [00:01<00:00, 22.22it/s, loss=64.689, v_num=9]\n",
            "Epoch 29: 100%|██████████| 31/31 [00:01<00:00, 22.43it/s, loss=64.689, v_num=9]\n",
            "Epoch 30:  81%|████████  | 25/31 [00:01<00:00, 17.21it/s, loss=65.959, v_num=9]\n",
            "Validating: 0it [00:00, ?it/s]\u001b[A\n",
            "Epoch 30:  90%|█████████ | 28/31 [00:01<00:00, 17.77it/s, loss=65.959, v_num=9]\n",
            "Epoch 30: 100%|██████████| 31/31 [00:01<00:00, 17.52it/s, loss=65.959, v_num=9]\n",
            "Epoch 31:  81%|████████  | 25/31 [00:01<00:00, 20.73it/s, loss=67.999, v_num=9]\n",
            "Validating: 0it [00:00, ?it/s]\u001b[A\n",
            "Epoch 31:  90%|█████████ | 28/31 [00:01<00:00, 20.11it/s, loss=67.999, v_num=9]\n",
            "Epoch 31: 100%|██████████| 31/31 [00:01<00:00, 20.50it/s, loss=67.999, v_num=9]\n",
            "Epoch 32:  81%|████████  | 25/31 [00:01<00:00, 18.31it/s, loss=65.581, v_num=9]\n",
            "Validating: 0it [00:00, ?it/s]\u001b[A\n",
            "Epoch 32:  90%|█████████ | 28/31 [00:01<00:00, 18.53it/s, loss=65.581, v_num=9]\n",
            "Epoch 32: 100%|██████████| 31/31 [00:01<00:00, 19.05it/s, loss=65.581, v_num=9]\n",
            "Epoch 33:  81%|████████  | 25/31 [00:01<00:00, 18.29it/s, loss=63.499, v_num=9]\n",
            "Validating: 0it [00:00, ?it/s]\u001b[A\n",
            "Epoch 33:  90%|█████████ | 28/31 [00:01<00:00, 18.66it/s, loss=63.499, v_num=9]\n",
            "Epoch 33: 100%|██████████| 31/31 [00:01<00:00, 18.86it/s, loss=63.499, v_num=9]\n",
            "Epoch 34:  81%|████████  | 25/31 [00:00<00:00, 27.25it/s, loss=65.005, v_num=9]\n",
            "Validating: 0it [00:00, ?it/s]\u001b[A\n",
            "Epoch 34:  90%|█████████ | 28/31 [00:01<00:00, 26.19it/s, loss=65.005, v_num=9]\n",
            "Validating:  67%|██████▋   | 4/6 [00:00<00:00, 19.07it/s]\u001b[A\n",
            "Epoch 34: 100%|██████████| 31/31 [00:01<00:00, 24.65it/s, loss=65.005, v_num=9]\n",
            "Epoch 35:  81%|████████  | 25/31 [00:01<00:00, 20.40it/s, loss=66.171, v_num=9]\n",
            "Validating: 0it [00:00, ?it/s]\u001b[A\n",
            "Epoch 35:  90%|█████████ | 28/31 [00:01<00:00, 19.20it/s, loss=66.171, v_num=9]\n",
            "Validating:  67%|██████▋   | 4/6 [00:00<00:00, 13.56it/s]\u001b[A\n",
            "Epoch 35: 100%|██████████| 31/31 [00:01<00:00, 19.23it/s, loss=66.171, v_num=9]\n",
            "Epoch 36:  81%|████████  | 25/31 [00:00<00:00, 25.88it/s, loss=66.950, v_num=9]\n",
            "Epoch 36:  90%|█████████ | 28/31 [00:01<00:00, 26.27it/s, loss=66.950, v_num=9]\n",
            "Epoch 36: 100%|██████████| 31/31 [00:01<00:00, 26.58it/s, loss=66.950, v_num=9]\n",
            "Epoch 37:  81%|████████  | 25/31 [00:00<00:00, 26.13it/s, loss=64.982, v_num=9]\n",
            "Validating: 0it [00:00, ?it/s]\u001b[A\n",
            "Epoch 37:  90%|█████████ | 28/31 [00:01<00:00, 23.74it/s, loss=64.982, v_num=9]\n",
            "Epoch 37: 100%|██████████| 31/31 [00:01<00:00, 23.78it/s, loss=64.982, v_num=9]\n",
            "Epoch 38:  81%|████████  | 25/31 [00:01<00:00, 19.67it/s, loss=64.377, v_num=9]\n",
            "Validating: 0it [00:00, ?it/s]\u001b[A\n",
            "Epoch 38:  90%|█████████ | 28/31 [00:01<00:00, 19.48it/s, loss=64.377, v_num=9]\n",
            "Epoch 38: 100%|██████████| 31/31 [00:01<00:00, 19.87it/s, loss=64.377, v_num=9]\n",
            "Epoch 39:  81%|████████  | 25/31 [00:00<00:00, 25.77it/s, loss=66.274, v_num=9]\n",
            "Validating: 0it [00:00, ?it/s]\u001b[A\n",
            "Epoch 39:  90%|█████████ | 28/31 [00:01<00:00, 24.78it/s, loss=66.274, v_num=9]\n",
            "Epoch 39: 100%|██████████| 31/31 [00:01<00:00, 22.60it/s, loss=66.274, v_num=9]\n",
            "Epoch 40:  81%|████████  | 25/31 [00:01<00:00, 18.96it/s, loss=65.362, v_num=9]\n",
            "Epoch 40:  90%|█████████ | 28/31 [00:01<00:00, 19.73it/s, loss=65.362, v_num=9]\n",
            "Validating:  67%|██████▋   | 4/6 [00:00<00:00, 28.53it/s]\u001b[A\n",
            "Epoch 40: 100%|██████████| 31/31 [00:01<00:00, 19.61it/s, loss=65.362, v_num=9]\n",
            "Epoch 41:  81%|████████  | 25/31 [00:01<00:00, 19.66it/s, loss=58.308, v_num=9]\n",
            "Validating: 0it [00:00, ?it/s]\u001b[A\n",
            "Epoch 41:  90%|█████████ | 28/31 [00:01<00:00, 19.95it/s, loss=58.308, v_num=9]\n",
            "Epoch 41: 100%|██████████| 31/31 [00:01<00:00, 19.13it/s, loss=58.308, v_num=9]\n",
            "Epoch 42:  81%|████████  | 25/31 [00:00<00:00, 25.47it/s, loss=57.757, v_num=9]\n",
            "Validating: 0it [00:00, ?it/s]\u001b[A\n",
            "Epoch 42: 100%|██████████| 31/31 [00:01<00:00, 26.11it/s, loss=57.757, v_num=9]\n",
            "Epoch 43:  81%|████████  | 25/31 [00:01<00:00, 23.53it/s, loss=61.597, v_num=9]\n",
            "Validating: 0it [00:00, ?it/s]\u001b[A\n",
            "Epoch 43:  90%|█████████ | 28/31 [00:01<00:00, 23.07it/s, loss=61.597, v_num=9]\n",
            "Validating:  67%|██████▋   | 4/6 [00:00<00:00, 19.03it/s]\u001b[A\n",
            "Epoch 43: 100%|██████████| 31/31 [00:01<00:00, 21.83it/s, loss=61.597, v_num=9]\n",
            "Epoch 44:  81%|████████  | 25/31 [00:01<00:00, 16.67it/s, loss=69.677, v_num=9]\n",
            "Validating: 0it [00:00, ?it/s]\u001b[A\n",
            "Validating:  17%|█▋        | 1/6 [00:00<00:00,  9.58it/s]\u001b[A\n",
            "Epoch 44:  90%|█████████ | 28/31 [00:01<00:00, 16.04it/s, loss=69.677, v_num=9]\n",
            "Epoch 44: 100%|██████████| 31/31 [00:01<00:00, 15.70it/s, loss=69.677, v_num=9]\n",
            "Epoch 45:  81%|████████  | 25/31 [00:01<00:00, 16.77it/s, loss=64.804, v_num=9]\n",
            "Validating: 0it [00:00, ?it/s]\u001b[A\n",
            "Epoch 45:  90%|█████████ | 28/31 [00:01<00:00, 16.45it/s, loss=64.804, v_num=9]\n",
            "Validating:  67%|██████▋   | 4/6 [00:00<00:00, 15.06it/s]\u001b[A\n",
            "Epoch 45: 100%|██████████| 31/31 [00:01<00:00, 16.48it/s, loss=64.804, v_num=9]\n",
            "Epoch 46:  81%|████████  | 25/31 [00:01<00:00, 16.02it/s, loss=63.694, v_num=9]\n",
            "Validating: 0it [00:00, ?it/s]\u001b[A\n",
            "Epoch 46:  90%|█████████ | 28/31 [00:01<00:00, 15.85it/s, loss=63.694, v_num=9]\n",
            "Validating:  67%|██████▋   | 4/6 [00:00<00:00, 15.33it/s]\u001b[A\n",
            "Epoch 46: 100%|██████████| 31/31 [00:01<00:00, 15.79it/s, loss=63.694, v_num=9]\n",
            "Epoch 47:  81%|████████  | 25/31 [00:01<00:00, 15.85it/s, loss=59.193, v_num=9]\n",
            "Validating: 0it [00:00, ?it/s]\u001b[A\n",
            "Epoch 47:  90%|█████████ | 28/31 [00:01<00:00, 15.77it/s, loss=59.193, v_num=9]\n",
            "Validating:  67%|██████▋   | 4/6 [00:00<00:00, 15.57it/s]\u001b[A\n",
            "Epoch 47: 100%|██████████| 31/31 [00:01<00:00, 15.71it/s, loss=59.193, v_num=9]\n",
            "Epoch 48:  81%|████████  | 25/31 [00:01<00:00, 16.28it/s, loss=63.448, v_num=9]\n",
            "Validating: 0it [00:00, ?it/s]\u001b[A\n",
            "Epoch 48:  90%|█████████ | 28/31 [00:01<00:00, 16.20it/s, loss=63.448, v_num=9]\n",
            "Validating:  67%|██████▋   | 4/6 [00:00<00:00, 15.06it/s]\u001b[A\n",
            "Epoch 48: 100%|██████████| 31/31 [00:01<00:00, 15.98it/s, loss=63.448, v_num=9]\n",
            "Epoch 49:  81%|████████  | 25/31 [00:01<00:00, 16.31it/s, loss=56.379, v_num=9]\n",
            "Validating: 0it [00:00, ?it/s]\u001b[A\n",
            "Epoch 49:  90%|█████████ | 28/31 [00:01<00:00, 16.22it/s, loss=56.379, v_num=9]\n",
            "Validating:  67%|██████▋   | 4/6 [00:00<00:00, 16.19it/s]\u001b[A\n",
            "Epoch 49: 100%|██████████| 31/31 [00:01<00:00, 16.25it/s, loss=56.379, v_num=9]\n",
            "                                                         \u001b[A"
          ],
          "name": "stdout"
        },
        {
          "output_type": "stream",
          "text": [
            "Saving latest checkpoint..\n"
          ],
          "name": "stderr"
        },
        {
          "output_type": "stream",
          "text": [
            "\rEpoch 49: 100%|██████████| 31/31 [00:01<00:00, 16.10it/s, loss=56.379, v_num=9]\n"
          ],
          "name": "stdout"
        },
        {
          "output_type": "execute_result",
          "data": {
            "text/plain": [
              "1"
            ]
          },
          "metadata": {
            "tags": []
          },
          "execution_count": 41
        }
      ]
    },
    {
      "cell_type": "markdown",
      "metadata": {
        "id": "M9vxUEfYoibx",
        "colab_type": "text"
      },
      "source": [
        "# Baseline Models"
      ]
    },
    {
      "cell_type": "code",
      "metadata": {
        "id": "Tgsn8xw3ojkM",
        "colab_type": "code",
        "colab": {}
      },
      "source": [
        "class MeanModel(th.nn.Module):\n",
        "    def forward(self, x):\n",
        "        return x.mean(dim=-1).unsqueeze(axis=1)"
      ],
      "execution_count": 12,
      "outputs": []
    },
    {
      "cell_type": "markdown",
      "metadata": {
        "id": "iB_w0lVD4QEu",
        "colab_type": "text"
      },
      "source": [
        "# Validation"
      ]
    },
    {
      "cell_type": "code",
      "metadata": {
        "id": "ABoCQ3hzTXBC",
        "colab_type": "code",
        "colab": {
          "base_uri": "https://localhost:8080/",
          "height": 104
        },
        "outputId": "f5bdb9f3-1fc7-44c1-ac35-b0f099176dc2"
      },
      "source": [
        "list(model.parameters())"
      ],
      "execution_count": 13,
      "outputs": [
        {
          "output_type": "execute_result",
          "data": {
            "text/plain": [
              "[Parameter containing:\n",
              " tensor([[0.0274, 0.1462, 0.1016, 0.0759, 0.0080, 0.1249, 0.1162, 0.4012]],\n",
              "        requires_grad=True),\n",
              " Parameter containing:\n",
              " tensor([0.3460], requires_grad=True)]"
            ]
          },
          "metadata": {
            "tags": []
          },
          "execution_count": 13
        }
      ]
    },
    {
      "cell_type": "code",
      "metadata": {
        "id": "gdf3PstYTXBA",
        "colab_type": "code",
        "colab": {}
      },
      "source": [
        "def validate(model, ticker):\n",
        "  assert pred_win == 1\n",
        "  df = load_df(ticker, eval_date_range)\n",
        "  ds = StockSeqDataset(df)\n",
        "  dl = DataLoader(dataset=ds, batch_size=batch_size, shuffle=False)\n",
        "  for i, (x, y) in enumerate(dl):\n",
        "    start = batch_size * i + hist_win  # prediction is offset by hist_win\n",
        "    end = start + batch_size - 1  # slice end is inclusive\n",
        "    with th.no_grad():\n",
        "      y_pred = model(x)\n",
        "    y = y.cpu().numpy().squeeze()\n",
        "    y_pred = y_pred.cpu().numpy().squeeze()\n",
        "    #import pdb; pdb.set_trace()\n",
        "    df.loc[start:end, 'actual'] = y\n",
        "    df.loc[start:end, 'pred'] = y_pred\n",
        "  return df\n",
        "\n",
        "def plot(df, cols=['actual', 'pred']):\n",
        " df.plot(x='date', y=cols, figsize=(10, 8))"
      ],
      "execution_count": 14,
      "outputs": []
    },
    {
      "cell_type": "code",
      "metadata": {
        "id": "PO_vZH-4TXBE",
        "colab_type": "code",
        "colab": {
          "base_uri": "https://localhost:8080/",
          "height": 473
        },
        "outputId": "a5e18cd1-9c2b-4bf8-cbae-cbf31cf9c484"
      },
      "source": [
        "df_pred = validate(model, 'FB')\n",
        "plot(df_pred)"
      ],
      "execution_count": 15,
      "outputs": [
        {
          "output_type": "display_data",
          "data": {
            "text/plain": [
              "<Figure size 720x576 with 1 Axes>"
            ],
            "image/png": "[encoded data removed]"
          },
          "metadata": {
            "tags": []
          }
        }
      ]
    },
    {
      "cell_type": "code",
      "metadata": {
        "id": "UrYuKN81TXBJ",
        "colab_type": "code",
        "colab": {
          "base_uri": "https://localhost:8080/",
          "height": 473
        },
        "outputId": "1fc9d67e-0bd1-43bf-a541-21b618d9ec75"
      },
      "source": [
        "df_pred = validate(MeanModel(), 'FB')\n",
        "plot(df_pred)"
      ],
      "execution_count": 16,
      "outputs": [
        {
          "output_type": "display_data",
          "data": {
            "text/plain": [
              "<Figure size 720x576 with 1 Axes>"
            ],
            "image/png": "[encoded data removed]"
          },
          "metadata": {
            "tags": []
          }
        }
      ]
    },
    {
      "cell_type": "markdown",
      "metadata": {
        "id": "r_faUFu04Y4M",
        "colab_type": "text"
      },
      "source": [
        "# Strategy"
      ]
    },
    {
      "cell_type": "code",
      "metadata": {
        "id": "DbgwUJ5-Aibs",
        "colab_type": "code",
        "colab": {}
      },
      "source": [
        "class SimpleStrategy:\n",
        "  \"\"\"Simple strategy\n",
        "\n",
        "  If day's predicted change is positive, hold through day.\n",
        "  If day's predicted change is negative, skip the day.\n",
        "  \"\"\"\n",
        "  def __init__(self, model):\n",
        "    self.model = model\n",
        "\n",
        "  def compute_hold(self, ticker):\n",
        "    df_pred = validate(self.model, ticker)\n",
        "    df_pred = df_pred.dropna(subset=('actual', 'pred'))\n",
        "    actual, pred = df_pred['actual'].values, df_pred['pred'].values\n",
        "    assert len(actual) == len(pred)\n",
        "    hold = pred[1:] > pred[:-1]\n",
        "    return pd.DataFrame.from_dict({\n",
        "        'actual': actual[1:],\n",
        "        'pred': pred[1:],\n",
        "        'hold': hold,\n",
        "    })\n",
        "\n",
        "def compute_returns(df):\n",
        "  df = df.copy()\n",
        "  df.loc[:, 'roi_actual'] = df.actual / df.actual.shift(1)\n",
        "  df.loc[:, 'roi_pred'] = df.pred / df.pred.shift(1)\n",
        "  return df\n",
        "\n",
        "def total_return(df, query=None):\n",
        "  if query:\n",
        "    df = df.query(query)\n",
        "  roi_actual = df.roi_actual.product()\n",
        "  roi_pred = df.roi_pred.product()\n",
        "  return roi_actual, roi_pred\n",
        "\n",
        "def evaluate_models(models, tickers):\n",
        "  strats = {name: SimpleStrategy(model) for name, model in models.items()}\n",
        "  df_actual = pd.DataFrame()\n",
        "  df_pred = pd.DataFrame()\n",
        "  \n",
        "  for ticker in tickers:\n",
        "    for strat_name, strat in strats.items():\n",
        "      df_hold = strat.compute_hold(ticker)\n",
        "      df_roi = compute_returns(df_hold)\n",
        "      \n",
        "      all = total_return(df_roi)\n",
        "      hold = total_return(df_roi, 'hold == True')\n",
        "      not_hold = total_return(df_roi, 'hold == False')\n",
        "\n",
        "      df_actual.loc[strat_name + ': all', ticker] = all[0]\n",
        "      df_actual.loc[strat_name + ': hold', ticker] = hold[0]\n",
        "      df_actual.loc[strat_name + ': !hold', ticker] = not_hold[0]\n",
        "      df_pred.loc[strat_name + ': all', ticker] = all[1]\n",
        "      df_pred.loc[strat_name + ': hold', ticker] = hold[1]\n",
        "      df_pred.loc[strat_name + ': !hold', ticker] = not_hold[1]\n",
        "  return df_actual, df_pred\n"
      ],
      "execution_count": 17,
      "outputs": []
    },
    {
      "cell_type": "code",
      "metadata": {
        "id": "ydyvSoMS08W2",
        "colab_type": "code",
        "colab": {
          "base_uri": "https://localhost:8080/",
          "height": 228
        },
        "outputId": "147dfe74-cc44-48d5-d36b-c914b2c983e5"
      },
      "source": [
        "models = {\n",
        "    'mean': MeanModel(),\n",
        "    'linear': model,\n",
        "}\n",
        "tickers = [\n",
        "    'FB',\n",
        "    'GOOG',\n",
        "    'AAPL',\n",
        "    'MSFT',\n",
        "    'SPY',\n",
        "]\n",
        "\n",
        "df_actual, df_pred = evaluate_models(models, tickers)\n",
        "df_actual"
      ],
      "execution_count": 18,
      "outputs": [
        {
          "output_type": "execute_result",
          "data": {
            "text/plain": [
              "                     FB      GOOG      AAPL      MSFT       SPY\n",
              "mean: all      1.605146  1.661700  2.561683  2.661719  1.505773\n",
              "mean: hold     1.191728  0.858175  1.725186  1.198619  1.311940\n",
              "mean: !hold    1.346907  1.936317  1.484874  2.220654  1.147745\n",
              "linear: all    1.605146  1.661700  2.561683  2.661719  1.505773\n",
              "linear: hold   0.961086  1.427836  1.919646  1.450415  1.358589\n",
              "linear: !hold  1.670137  1.163789  1.334456  1.835143  1.108336"
            ],
            "text/html": [
              "<div>\n",
              "<style scoped>\n",
              "    .dataframe tbody tr th:only-of-type {\n",
              "        vertical-align: middle;\n",
              "    }\n",
              "\n",
              "    .dataframe tbody tr th {\n",
              "        vertical-align: top;\n",
              "    }\n",
              "\n",
              "    .dataframe thead th {\n",
              "        text-align: right;\n",
              "    }\n",
              "</style>\n",
              "<table border=\"1\" class=\"dataframe\">\n",
              "  <thead>\n",
              "    <tr style=\"text-align: right;\">\n",
              "      <th></th>\n",
              "      <th>FB</th>\n",
              "      <th>GOOG</th>\n",
              "      <th>AAPL</th>\n",
              "      <th>MSFT</th>\n",
              "      <th>SPY</th>\n",
              "    </tr>\n",
              "  </thead>\n",
              "  <tbody>\n",
              "    <tr>\n",
              "      <th>mean: all</th>\n",
              "      <td>1.605146</td>\n",
              "      <td>1.661700</td>\n",
              "      <td>2.561683</td>\n",
              "      <td>2.661719</td>\n",
              "      <td>1.505773</td>\n",
              "    </tr>\n",
              "    <tr>\n",
              "      <th>mean: hold</th>\n",
              "      <td>1.191728</td>\n",
              "      <td>0.858175</td>\n",
              "      <td>1.725186</td>\n",
              "      <td>1.198619</td>\n",
              "      <td>1.311940</td>\n",
              "    </tr>\n",
              "    <tr>\n",
              "      <th>mean: !hold</th>\n",
              "      <td>1.346907</td>\n",
              "      <td>1.936317</td>\n",
              "      <td>1.484874</td>\n",
              "      <td>2.220654</td>\n",
              "      <td>1.147745</td>\n",
              "    </tr>\n",
              "    <tr>\n",
              "      <th>linear: all</th>\n",
              "      <td>1.605146</td>\n",
              "      <td>1.661700</td>\n",
              "      <td>2.561683</td>\n",
              "      <td>2.661719</td>\n",
              "      <td>1.505773</td>\n",
              "    </tr>\n",
              "    <tr>\n",
              "      <th>linear: hold</th>\n",
              "      <td>0.961086</td>\n",
              "      <td>1.427836</td>\n",
              "      <td>1.919646</td>\n",
              "      <td>1.450415</td>\n",
              "      <td>1.358589</td>\n",
              "    </tr>\n",
              "    <tr>\n",
              "      <th>linear: !hold</th>\n",
              "      <td>1.670137</td>\n",
              "      <td>1.163789</td>\n",
              "      <td>1.334456</td>\n",
              "      <td>1.835143</td>\n",
              "      <td>1.108336</td>\n",
              "    </tr>\n",
              "  </tbody>\n",
              "</table>\n",
              "</div>"
            ]
          },
          "metadata": {
            "tags": []
          },
          "execution_count": 18
        }
      ]
    }
  ]
}